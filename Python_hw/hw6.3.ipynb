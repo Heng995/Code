{
 "cells": [
  {
   "cell_type": "code",
   "execution_count": 6,
   "metadata": {},
   "outputs": [],
   "source": [
    "m = int(input('輸入 m :'))\n",
    "n = int(input('輸入 n :'))\n",
    "p = int(input('輸入 p :'))"
   ]
  },
  {
   "cell_type": "code",
   "execution_count": 7,
   "metadata": {},
   "outputs": [
    {
     "name": "stdout",
     "output_type": "stream",
     "text": [
      "矩陣 A\n"
     ]
    }
   ],
   "source": [
    "print('矩陣 A')\n",
    "A = []\n",
    "for i in range(m):\n",
    "    A.append(list(map(int, input('輸入矩陣: ').split(' '))))"
   ]
  },
  {
   "cell_type": "code",
   "execution_count": 8,
   "metadata": {},
   "outputs": [
    {
     "name": "stdout",
     "output_type": "stream",
     "text": [
      "矩陣 B\n"
     ]
    }
   ],
   "source": [
    "print('矩陣 B')\n",
    "B = []\n",
    "for i in range(n):\n",
    "    B.append(list(map(int, input('輸入矩陣: ').split(' '))))"
   ]
  },
  {
   "cell_type": "code",
   "execution_count": 9,
   "metadata": {},
   "outputs": [],
   "source": [
    "def run(A, B):\n",
    "    multiply = []\n",
    "    result = [list(row) for row in zip(*B)]\n",
    "    for Al in range(len(A)):\n",
    "        row = []\n",
    "        for Bl in range(len(result)):\n",
    "            num = 0\n",
    "            for Br in range(len(result[0])):\n",
    "                num += A[Al][Br] * result[Bl][Br]\n",
    "            row.append(num)\n",
    "        multiply.append(row)\n",
    "    return multiply"
   ]
  },
  {
   "cell_type": "code",
   "execution_count": 10,
   "metadata": {},
   "outputs": [
    {
     "name": "stdout",
     "output_type": "stream",
     "text": [
      "[[22, 31, 40], [28, 40, 52]]\n"
     ]
    }
   ],
   "source": [
    "print(run(A, B))"
   ]
  }
 ],
 "metadata": {
  "interpreter": {
   "hash": "e066906fe76e116fe298151430f54f14f8fa60f14e5cf26cd32bf8c49c87e31e"
  },
  "kernelspec": {
   "display_name": "Python 3.9.6 64-bit",
   "name": "python3"
  },
  "language_info": {
   "codemirror_mode": {
    "name": "ipython",
    "version": 3
   },
   "file_extension": ".py",
   "mimetype": "text/x-python",
   "name": "python",
   "nbconvert_exporter": "python",
   "pygments_lexer": "ipython3",
   "version": "3.9.6"
  },
  "orig_nbformat": 4
 },
 "nbformat": 4,
 "nbformat_minor": 2
}
