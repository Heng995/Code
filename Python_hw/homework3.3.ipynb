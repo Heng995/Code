{
 "cells": [
  {
   "cell_type": "markdown",
   "source": [
    "班級：資工三乙      學號：B08170067     姓名：古宇恆"
   ],
   "metadata": {}
  },
  {
   "cell_type": "markdown",
   "source": [
    "# BMI 指數判斷"
   ],
   "metadata": {}
  },
  {
   "cell_type": "code",
   "execution_count": 1,
   "source": [
    "h = float(input('請輸入您的身高(公分): '))\n",
    "w = float(input('請輸入您的體重(公斤): '))"
   ],
   "outputs": [],
   "metadata": {}
  },
  {
   "cell_type": "code",
   "execution_count": 2,
   "source": [
    "bmi = w / ((h / 100)**2)"
   ],
   "outputs": [],
   "metadata": {}
  },
  {
   "cell_type": "code",
   "execution_count": 3,
   "source": [
    "if bmi <= 18.5:\n",
    "    print('你的 BMI 是', (round(bmi,1)), 'y你太輕了!')\n",
    "elif bmi > 18.5 and bmi <= 24:\n",
    "    print('你的 BMI 是', (round(bmi,1)), '你的體重正常!')\n",
    "elif bmi > 24 and bmi <=27:\n",
    "    print('Y你的 BMI 是', (round(bmi,1)), '你是體重過重!')\n",
    "elif bmi > 27 and bmi <= 30:\n",
    "    print('你的 BMI 是', (round(bmi,1)), '你是輕度肥胖!')\n",
    "elif bmi > 30 and bmi <= 35:\n",
    "    print('你的 BMI 是', (round(bmi,1)), '你是中度肥胖!')\n",
    "else:\n",
    "    print('你的 BMI 是', (round(bmi,1)), '你是重度肥胖!')"
   ],
   "outputs": [
    {
     "output_type": "stream",
     "name": "stdout",
     "text": [
      "你的 BMI 是 21.5 你的體重正常!\n"
     ]
    }
   ],
   "metadata": {}
  }
 ],
 "metadata": {
  "orig_nbformat": 4,
  "language_info": {
   "name": "python",
   "version": "3.9.7",
   "mimetype": "text/x-python",
   "codemirror_mode": {
    "name": "ipython",
    "version": 3
   },
   "pygments_lexer": "ipython3",
   "nbconvert_exporter": "python",
   "file_extension": ".py"
  },
  "kernelspec": {
   "name": "python3",
   "display_name": "Python 3.9.7 64-bit"
  },
  "interpreter": {
   "hash": "aee8b7b246df8f9039afb4144a1f6fd8d2ca17a180786b69acc140d282b71a49"
  }
 },
 "nbformat": 4,
 "nbformat_minor": 2
}