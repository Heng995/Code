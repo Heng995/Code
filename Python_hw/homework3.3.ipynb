{
 "cells": [
  {
   "cell_type": "markdown",
   "source": [
    "班級：資工三乙      學號：B08170067     姓名：古宇恆"
   ],
   "metadata": {}
  },
  {
   "cell_type": "markdown",
   "source": [
    "# BMI 指數判斷"
   ],
   "metadata": {}
  },
  {
   "cell_type": "code",
   "execution_count": 13,
   "source": [
    "h = float(input('Please enter your height(cm): '))\n",
    "w = float(input('Please enter your weight(kg): '))"
   ],
   "outputs": [],
   "metadata": {}
  },
  {
   "cell_type": "code",
   "execution_count": 14,
   "source": [
    "bmi = w / ((h / 100)**2)"
   ],
   "outputs": [],
   "metadata": {}
  },
  {
   "cell_type": "code",
   "execution_count": 15,
   "source": [
    "if bmi <= 18.5:\n",
    "    print('You BMI is', (round(bmi,1)), 'you are too light!')\n",
    "elif bmi > 18.5 and bmi <= 24:\n",
    "    print('You BMI is', (round(bmi,1)), 'you have a normal weight!')\n",
    "elif bmi > 24 and bmi <=27:\n",
    "    print('You BMI is', (round(bmi,1)), 'you are overweight!')\n",
    "elif bmi > 27 and bmi <= 30:\n",
    "    print('You BMI is', (round(bmi,1)), 'you are slightly fat!')\n",
    "elif bmi > 30 and bmi <= 35:\n",
    "    print('You BMI is', (round(bmi,1)), 'you are fat!')\n",
    "else:\n",
    "    print('You BMI is', (round(bmi,1)), 'you are extremely fat!')"
   ],
   "outputs": [
    {
     "output_type": "stream",
     "name": "stdout",
     "text": [
      "You BMI is 21.5 you have a normal weight!\n"
     ]
    }
   ],
   "metadata": {}
  }
 ],
 "metadata": {
  "orig_nbformat": 4,
  "language_info": {
   "name": "python",
   "version": "3.9.7",
   "mimetype": "text/x-python",
   "codemirror_mode": {
    "name": "ipython",
    "version": 3
   },
   "pygments_lexer": "ipython3",
   "nbconvert_exporter": "python",
   "file_extension": ".py"
  },
  "kernelspec": {
   "name": "python3",
   "display_name": "Python 3.9.7 64-bit"
  },
  "interpreter": {
   "hash": "aee8b7b246df8f9039afb4144a1f6fd8d2ca17a180786b69acc140d282b71a49"
  }
 },
 "nbformat": 4,
 "nbformat_minor": 2
}