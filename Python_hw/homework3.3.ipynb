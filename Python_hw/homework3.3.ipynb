{
 "cells": [
  {
   "cell_type": "markdown",
   "source": [
    "# BMI 指數判斷"
   ],
   "metadata": {}
  },
  {
   "cell_type": "code",
   "execution_count": 1,
   "source": [
    "h = float(input('Please enter your height(cm): '))\r\n",
    "w = float(input('Please enter your weight(kg): '))"
   ],
   "outputs": [],
   "metadata": {}
  },
  {
   "cell_type": "code",
   "execution_count": 2,
   "source": [
    "bmi = w / ((h / 100)**2)"
   ],
   "outputs": [],
   "metadata": {}
  },
  {
   "cell_type": "code",
   "execution_count": null,
   "source": [
    "if bmi <= 18:\r\n",
    "    print('You BMI is (bmi:.lf)')"
   ],
   "outputs": [],
   "metadata": {}
  }
 ],
 "metadata": {
  "orig_nbformat": 4,
  "language_info": {
   "name": "python",
   "version": "3.9.6",
   "mimetype": "text/x-python",
   "codemirror_mode": {
    "name": "ipython",
    "version": 3
   },
   "pygments_lexer": "ipython3",
   "nbconvert_exporter": "python",
   "file_extension": ".py"
  },
  "kernelspec": {
   "name": "python3",
   "display_name": "Python 3.9.6 64-bit"
  },
  "interpreter": {
   "hash": "e066906fe76e116fe298151430f54f14f8fa60f14e5cf26cd32bf8c49c87e31e"
  }
 },
 "nbformat": 4,
 "nbformat_minor": 2
}