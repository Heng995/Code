{
 "cells": [
  {
   "cell_type": "markdown",
   "source": [
    "班級：資工三乙      學號：B08170067     姓名：古宇恆"
   ],
   "metadata": {}
  },
  {
   "cell_type": "markdown",
   "source": [
    "# 程式設計作業 4.2 dict 操作\n"
   ],
   "metadata": {}
  },
  {
   "cell_type": "markdown",
   "source": [
    "## 建立Dictionary的方法\n"
   ],
   "metadata": {}
  },
  {
   "cell_type": "code",
   "execution_count": 24,
   "source": [
    "# 身高\n",
    "heights = {\"Mike\": 175, \"Peter\": 168}\n",
    "\n",
    "# 車款\n",
    "cars = {1: \"Audi\", 2: \"BMW\"}\n",
    "\n",
    "print(heights)\n",
    "print(cars)"
   ],
   "outputs": [
    {
     "output_type": "stream",
     "name": "stdout",
     "text": [
      "{'Mike': 175, 'Peter': 168}\n",
      "{1: 'Audi', 2: 'BMW'}\n"
     ]
    }
   ],
   "metadata": {}
  },
  {
   "cell_type": "markdown",
   "source": [
    "## 存取Dictionary元素的方法\n",
    "\n"
   ],
   "metadata": {}
  },
  {
   "cell_type": "code",
   "execution_count": 25,
   "source": [
    "# 身高\n",
    "heights = {\"Mike\": 175, \"Peter\": 168}\n",
    "print(heights[\"Mike\"])"
   ],
   "outputs": [
    {
     "output_type": "stream",
     "name": "stdout",
     "text": [
      "175\n"
     ]
    }
   ],
   "metadata": {}
  },
  {
   "cell_type": "code",
   "execution_count": 26,
   "source": [
    "heights = {\"Mike\": 175, \"Peter\": 168}\n",
    "\n",
    "for height in heights.items():\n",
    "    print(height)"
   ],
   "outputs": [
    {
     "output_type": "stream",
     "name": "stdout",
     "text": [
      "('Mike', 175)\n",
      "('Peter', 168)\n"
     ]
    }
   ],
   "metadata": {}
  },
  {
   "cell_type": "markdown",
   "source": [
    "## 新增Dictionary元素的方法\n"
   ],
   "metadata": {}
  },
  {
   "cell_type": "code",
   "execution_count": 27,
   "source": [
    "# 身高\n",
    "heights = {\"Mike\":175, \"Peter\":168}\n",
    "\n",
    "heights[\"John\"] = 179\n",
    "\n",
    "print(heights)"
   ],
   "outputs": [
    {
     "output_type": "stream",
     "name": "stdout",
     "text": [
      "{'Mike': 175, 'Peter': 168, 'John': 179}\n"
     ]
    }
   ],
   "metadata": {}
  },
  {
   "cell_type": "markdown",
   "source": [
    "## 修改Dictionary元素的方法\n"
   ],
   "metadata": {}
  },
  {
   "cell_type": "code",
   "execution_count": 28,
   "source": [
    "# 身高\n",
    "heights = {\"Mike\": 175, \"Peter\": 168}\n",
    "\n",
    "heights[\"Peter\"] = 161\n",
    "\n",
    "print(heights)"
   ],
   "outputs": [
    {
     "output_type": "stream",
     "name": "stdout",
     "text": [
      "{'Mike': 175, 'Peter': 161}\n"
     ]
    }
   ],
   "metadata": {}
  },
  {
   "cell_type": "markdown",
   "source": [
    "## 刪除Dictionary元素的方法\n"
   ],
   "metadata": {}
  },
  {
   "cell_type": "code",
   "execution_count": null,
   "source": [],
   "outputs": [],
   "metadata": {}
  },
  {
   "cell_type": "markdown",
   "source": [
    "單一"
   ],
   "metadata": {}
  },
  {
   "cell_type": "code",
   "execution_count": 29,
   "source": [
    "# 身高\n",
    "heights = {\"Mike\":175, \"Peter\": 168}\n",
    "\n",
    "del heights[\"Peter\"]\n",
    "\n",
    "print(heights)"
   ],
   "outputs": [
    {
     "output_type": "stream",
     "name": "stdout",
     "text": [
      "{'Mike': 175}\n"
     ]
    }
   ],
   "metadata": {}
  },
  {
   "cell_type": "markdown",
   "source": [
    "全部"
   ],
   "metadata": {}
  },
  {
   "cell_type": "code",
   "execution_count": 30,
   "source": [
    "# 身高\n",
    "heights = {\"Mike\": 175, \"Peter\": 168}\n",
    "\n",
    "heights.clear()\n",
    "\n",
    "print(heights)"
   ],
   "outputs": [
    {
     "output_type": "stream",
     "name": "stdout",
     "text": [
      "{}\n"
     ]
    }
   ],
   "metadata": {}
  },
  {
   "cell_type": "markdown",
   "source": [
    "## 尋找Dictionary元素的方法\n"
   ],
   "metadata": {}
  },
  {
   "cell_type": "code",
   "execution_count": 31,
   "source": [
    "heights = {\"Mike\": 175, \"Peter\": 168}\n",
    "\n",
    "print(heights.get(\"Peter\"))\n",
    "\n",
    "print(heights.get(\"Harry\"))"
   ],
   "outputs": [
    {
     "output_type": "stream",
     "name": "stdout",
     "text": [
      "168\n",
      "None\n"
     ]
    }
   ],
   "metadata": {}
  }
 ],
 "metadata": {
  "orig_nbformat": 4,
  "language_info": {
   "name": "python",
   "version": "3.9.7",
   "mimetype": "text/x-python",
   "codemirror_mode": {
    "name": "ipython",
    "version": 3
   },
   "pygments_lexer": "ipython3",
   "nbconvert_exporter": "python",
   "file_extension": ".py"
  },
  "kernelspec": {
   "name": "python3",
   "display_name": "Python 3.9.7 64-bit"
  },
  "interpreter": {
   "hash": "aee8b7b246df8f9039afb4144a1f6fd8d2ca17a180786b69acc140d282b71a49"
  }
 },
 "nbformat": 4,
 "nbformat_minor": 2
}