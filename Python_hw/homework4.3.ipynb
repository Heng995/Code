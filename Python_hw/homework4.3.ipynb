{
 "cells": [
  {
   "cell_type": "markdown",
   "source": [
    "班級：資工三乙      學號：B08170067     姓名：古宇恆"
   ],
   "metadata": {}
  },
  {
   "cell_type": "markdown",
   "source": [
    "# 程式設計作業 4.3 tuple 操作\n"
   ],
   "metadata": {}
  },
  {
   "cell_type": "markdown",
   "source": [
    "## 建立Tuples的方法\n"
   ],
   "metadata": {}
  },
  {
   "cell_type": "markdown",
   "source": [
    "### 1. 於 ( ) 符號中輸入資料，並且以逗號區隔。\n"
   ],
   "metadata": {}
  },
  {
   "cell_type": "code",
   "execution_count": 9,
   "source": [
    "ages = (26, 30, 40, 50)\n",
    "print(ages)\n",
    "\n",
    "titles = (\"HelloPython\", \"Tuples\")\n",
    "print(titles)"
   ],
   "outputs": [
    {
     "output_type": "stream",
     "name": "stdout",
     "text": [
      "(26, 30, 40, 50)\n",
      "('HelloPython', 'Tuples')\n"
     ]
    }
   ],
   "metadata": {}
  },
  {
   "cell_type": "markdown",
   "source": [
    "### 2. 不加 ( ) 符號，直接指派資料，並且以逗號區隔。"
   ],
   "metadata": {}
  },
  {
   "cell_type": "code",
   "execution_count": 10,
   "source": [
    "ages = 26,30, 40, 50\n",
    "print(ages)\n",
    "print(\"ages data type: \", type(ages))\n",
    "\n",
    "values = 10,\n",
    "print(values)\n",
    "print(\"values data type\", type(values))"
   ],
   "outputs": [
    {
     "output_type": "stream",
     "name": "stdout",
     "text": [
      "(26, 30, 40, 50)\n",
      "ages data type:  <class 'tuple'>\n",
      "(10,)\n",
      "values data type <class 'tuple'>\n"
     ]
    }
   ],
   "metadata": {}
  },
  {
   "cell_type": "markdown",
   "source": [
    "### 3. 使用tuple( )方法，傳入Iterable(可疊代的)物件來建立Tuples(元組)。"
   ],
   "metadata": {}
  },
  {
   "cell_type": "code",
   "execution_count": 11,
   "source": [
    "ges = tuple ([26, 30])\n",
    "print(ages)\n",
    "\n",
    "names = tuple(\"Mike\")\n",
    "print(names)\n",
    "\n",
    "numbers = tuple(range(10))\n",
    "print(numbers)"
   ],
   "outputs": [
    {
     "output_type": "stream",
     "name": "stdout",
     "text": [
      "(26, 30, 40, 50)\n",
      "('M', 'i', 'k', 'e')\n",
      "(0, 1, 2, 3, 4, 5, 6, 7, 8, 9)\n"
     ]
    }
   ],
   "metadata": {}
  },
  {
   "cell_type": "markdown",
   "source": [
    "### 4. 使用 * 符號來建立Tuples(元組)。\n"
   ],
   "metadata": {}
  },
  {
   "cell_type": "code",
   "execution_count": 12,
   "source": [
    "ages = (26, 30) * 3\n",
    "print(ages) "
   ],
   "outputs": [
    {
     "output_type": "stream",
     "name": "stdout",
     "text": [
      "(26, 30, 26, 30, 26, 30)\n"
     ]
    }
   ],
   "metadata": {}
  },
  {
   "cell_type": "markdown",
   "source": [
    "## 存取Tuples元素的方法\n"
   ],
   "metadata": {}
  },
  {
   "cell_type": "markdown",
   "source": [
    "### 1. Tuples(元組)存取元素的方式和List(串列)、String(字串)一樣，使用 [ ] 符號並傳入索引值(從0開始計算)來進行存取，如下範例："
   ],
   "metadata": {}
  },
  {
   "cell_type": "code",
   "execution_count": 13,
   "source": [
    "ages = (25,30, 40, 50)\n",
    "print(ages[1])"
   ],
   "outputs": [
    {
     "output_type": "stream",
     "name": "stdout",
     "text": [
      "30\n"
     ]
    }
   ],
   "metadata": {}
  },
  {
   "cell_type": "markdown",
   "source": [
    "### 2. 如果想取得特定範圍的Tuples(元組)元素，使用 [ : ] 符號並傳入索引值。"
   ],
   "metadata": {}
  },
  {
   "cell_type": "code",
   "execution_count": 14,
   "source": [
    "# index 0 1 2 3 \n",
    "ages = (25, 30, 40, 50)\n",
    "\n",
    "#in [1:3]代表1~2不包含3，存取第二個到第三個元素\n",
    "print(ages[1: 3])\n",
    "\n",
    "#存取第二個元素到第三個元素\n",
    "print(ages[1:]) \n",
    "\n",
    "#存取第一個元素到第三個元素\n",
    "print(ages[:3]) #[:3]代表0~2不包含\n",
    "\n",
    "# 複製Tuple(元組)\n",
    "print(ages[:])"
   ],
   "outputs": [
    {
     "output_type": "stream",
     "name": "stdout",
     "text": [
      "(30, 40)\n",
      "(30, 40, 50)\n",
      "(25, 30, 40)\n",
      "(25, 30, 40, 50)\n"
     ]
    }
   ],
   "metadata": {}
  },
  {
   "cell_type": "markdown",
   "source": [
    "### 3. Tuples(元組)和List(串列)、String(字串)一樣可以透過Python迴圈來讀取每一個元素，因為Tuples(元組)也是Iterable(可疊代的)，如下範例："
   ],
   "metadata": {}
  },
  {
   "cell_type": "code",
   "execution_count": 15,
   "source": [
    "ages = (25, 30, 40, 50)\n",
    "\n",
    "for age in ages:\n",
    "    print(age)"
   ],
   "outputs": [
    {
     "output_type": "stream",
     "name": "stdout",
     "text": [
      "25\n",
      "30\n",
      "40\n",
      "50\n"
     ]
    }
   ],
   "metadata": {}
  },
  {
   "cell_type": "markdown",
   "source": [
    "## 尋找Tuples元素的方法"
   ],
   "metadata": {}
  },
  {
   "cell_type": "markdown",
   "source": [
    "### 1. 可以使用index( )方法，將要尋找的Tuples元素傳入，來取得該元素的索引值。"
   ],
   "metadata": {}
  },
  {
   "cell_type": "code",
   "execution_count": 16,
   "source": [
    "ages = (25, 30, 40, 50)\n",
    "print(ages.index(30))"
   ],
   "outputs": [
    {
     "output_type": "stream",
     "name": "stdout",
     "text": [
      "1\n"
     ]
    }
   ],
   "metadata": {}
  }
 ],
 "metadata": {
  "orig_nbformat": 4,
  "language_info": {
   "name": "python",
   "version": "3.9.7",
   "mimetype": "text/x-python",
   "codemirror_mode": {
    "name": "ipython",
    "version": 3
   },
   "pygments_lexer": "ipython3",
   "nbconvert_exporter": "python",
   "file_extension": ".py"
  },
  "kernelspec": {
   "name": "python3",
   "display_name": "Python 3.9.7 64-bit"
  },
  "interpreter": {
   "hash": "aee8b7b246df8f9039afb4144a1f6fd8d2ca17a180786b69acc140d282b71a49"
  }
 },
 "nbformat": 4,
 "nbformat_minor": 2
}