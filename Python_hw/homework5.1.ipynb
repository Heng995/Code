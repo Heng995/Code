{
 "cells": [
  {
   "cell_type": "markdown",
   "metadata": {},
   "source": [
    "班級：資工三乙      學號：B08170067     姓名：古宇恆"
   ]
  },
  {
   "cell_type": "markdown",
   "metadata": {},
   "source": [
    "# 程式設計作業5.1 亂數產生陣列"
   ]
  },
  {
   "cell_type": "markdown",
   "metadata": {},
   "source": [
    "## 亂數產生陣列"
   ]
  },
  {
   "cell_type": "markdown",
   "metadata": {},
   "source": [
    "### 1. 利用 亂數產生器產生0~1000亂數， 建立一個 10個元素的一維陣列，利用迴圈將第0個元素加 0，第一個元素加 1，依此類推。\n",
    "### 列印出陣列內容。"
   ]
  },
  {
   "cell_type": "code",
   "execution_count": 11,
   "metadata": {},
   "outputs": [
    {
     "name": "stdout",
     "output_type": "stream",
     "text": [
      "[435, 51, 915, 405, 18, 55, 851, 197, 491, 494]\n"
     ]
    }
   ],
   "source": [
    "import random\n",
    "x = [random.randint(0,1000)+i for i in range(10)]\n",
    "print(x)"
   ]
  },
  {
   "cell_type": "markdown",
   "metadata": {},
   "source": [
    "### 2. 利用 亂數產生器產生0~1000亂數， 建立一個 5x5 個元素的二維陣列，利用迴圈將第0個 row 的 元素加 1，第一個row的元素加 3，依此類推。\n",
    "### 列印出陣列內容。"
   ]
  },
  {
   "cell_type": "code",
   "execution_count": 23,
   "metadata": {},
   "outputs": [
    {
     "name": "stdout",
     "output_type": "stream",
     "text": [
      "[[313, 614, 319, 28, 215], [250, 32, 459, 608, 311], [877, 555, 141, 278, 789], [971, 127, 513, 836, 803], [742, 856, 855, 656, 498]]\n"
     ]
    }
   ],
   "source": [
    "x = [[random.randint(0,1000) for i in range(5)] for x in range(5)]\n",
    "for i in range(5):\n",
    "    x[0][i] += 2*i + 1\n",
    "print(x)"
   ]
  },
  {
   "cell_type": "markdown",
   "metadata": {},
   "source": [
    "### 3. 利用 亂數產生器產生0~1000亂數， 建立一個 5x5 個元素的二維陣列，利用迴圈將第0個 column 的 元素加 2，第一個row的元素加 4，依此類推。\n",
    "### 列印出陣列內容"
   ]
  },
  {
   "cell_type": "code",
   "execution_count": 24,
   "metadata": {},
   "outputs": [
    {
     "name": "stdout",
     "output_type": "stream",
     "text": [
      "[[828, 408, 38, 85, 149], [630, 860, 470, 470, 363], [339, 972, 123, 721, 783], [804, 303, 937, 385, 25], [728, 486, 900, 407, 490]]\n"
     ]
    }
   ],
   "source": [
    "x = [[random.randint(0, 1000) for i in range(5)] for x in range(5)]\n",
    "for i in range(5):\n",
    "    x[i][0] += 2*i+1\n",
    "print(x)"
   ]
  }
 ],
 "metadata": {
  "interpreter": {
   "hash": "aee8b7b246df8f9039afb4144a1f6fd8d2ca17a180786b69acc140d282b71a49"
  },
  "kernelspec": {
   "display_name": "Python 3.9.7 64-bit",
   "name": "python3"
  },
  "language_info": {
   "codemirror_mode": {
    "name": "ipython",
    "version": 3
   },
   "file_extension": ".py",
   "mimetype": "text/x-python",
   "name": "python",
   "nbconvert_exporter": "python",
   "pygments_lexer": "ipython3",
   "version": "3.9.7"
  },
  "orig_nbformat": 4
 },
 "nbformat": 4,
 "nbformat_minor": 2
}
