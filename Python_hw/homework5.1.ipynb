{
 "cells": [
  {
   "cell_type": "markdown",
   "metadata": {},
   "source": [
    "班級：資工三乙      學號：B08170067     姓名：古宇恆"
   ]
  },
  {
   "cell_type": "markdown",
   "metadata": {},
   "source": [
    "# 程式設計作業5.1 亂數產生陣列"
   ]
  },
  {
   "cell_type": "markdown",
   "metadata": {},
   "source": [
    "## 亂數產生陣列"
   ]
  },
  {
   "cell_type": "markdown",
   "metadata": {},
   "source": [
    "### 1. 利用 亂數產生器產生0~1000亂數， 建立一個 10個元素的一維陣列，利用迴圈將第0個元素加 0，第一個元素加 1，依此類推。\n",
    "### 列印出陣列內容。"
   ]
  },
  {
   "cell_type": "code",
   "execution_count": null,
   "metadata": {},
   "outputs": [],
   "source": [
    "import random\n",
    "a = random.randint(0,1000)\n",
    "b = random.randint(0,1000)\n",
    "c = random.randint(0,1000)\n",
    "d = random.randint(0,1000)\n",
    "e = random.randint(0,1000)\n",
    "f = random.randint(0,1000)\n",
    "g = random.randint(0,1000)\n",
    "h = random.randint(0,1000)\n",
    "i = random.randint(0,1000)\n",
    "j = random.randint(0,1000)\n",
    "x = [a+0, b+1, c+2, d+3, e+4, f+5, g+6, h+7, i+8, j+9]\n",
    "print(x)"
   ]
  },
  {
   "cell_type": "markdown",
   "metadata": {},
   "source": [
    "### 2. 利用 亂數產生器產生0~1000亂數， 建立一個 5x5 個元素的二維陣列，利用迴圈將第0個 row 的 元素加 1，第一個row的元素加 3，依此類推。\n",
    "### 列印出陣列內容。"
   ]
  },
  {
   "cell_type": "code",
   "execution_count": 78,
   "metadata": {},
   "outputs": [
    {
     "name": "stdout",
     "output_type": "stream",
     "text": [
      "[32, 585, 683, 372, 909]\n",
      "[294, 636, 139, 916, 932]\n",
      "[913, 597, 668, 191, 339]\n",
      "[411, 604, 867, 213, 764]\n",
      "[987, 827, 66, 24, 307]\n"
     ]
    }
   ],
   "source": [
    "i = 1\n",
    "while i <= 5:\n",
    "    import random\n",
    "    a = random.randint(0,1000)\n",
    "    b = random.randint(0,1000)\n",
    "    c = random.randint(0,1000)\n",
    "    d = random.randint(0,1000)\n",
    "    e = random.randint(0,1000)\n",
    "    x = [a+i, b+i, c+i, d+i, e+i]\n",
    "    i = i+1\n",
    "    print(x)"
   ]
  },
  {
   "cell_type": "markdown",
   "metadata": {},
   "source": [
    "### 3. 利用 亂數產生器產生0~1000亂數， 建立一個 5x5 個元素的二維陣列，利用迴圈將第0個 column 的 元素加 2，第一個row的元素加 4，依此類推。\n",
    "### 列印出陣列內容"
   ]
  },
  {
   "cell_type": "code",
   "execution_count": null,
   "metadata": {},
   "outputs": [],
   "source": [
    "i = 1\n",
    "while i <= 5:\n",
    "    import random\n",
    "    a = random.randint(0,1000)\n",
    "    b = random.randint(0,1000)\n",
    "    c = random.randint(0,1000)\n",
    "    d = random.randint(0,1000)\n",
    "    e = random.randint(0,1000)\n",
    "    x = [a+2, b+4, c+6, d+8, e+10]\n",
    "    \n",
    "    print(x)"
   ]
  }
 ],
 "metadata": {
  "interpreter": {
   "hash": "e066906fe76e116fe298151430f54f14f8fa60f14e5cf26cd32bf8c49c87e31e"
  },
  "kernelspec": {
   "display_name": "Python 3.9.6 64-bit",
   "name": "python3"
  },
  "language_info": {
   "codemirror_mode": {
    "name": "ipython",
    "version": 3
   },
   "file_extension": ".py",
   "mimetype": "text/x-python",
   "name": "python",
   "nbconvert_exporter": "python",
   "pygments_lexer": "ipython3",
   "version": "3.9.6"
  },
  "orig_nbformat": 4
 },
 "nbformat": 4,
 "nbformat_minor": 2
}
