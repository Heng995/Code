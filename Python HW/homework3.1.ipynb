{
 "cells": [
  {
   "cell_type": "markdown",
   "source": [
    "班級：資工三乙       學號：B08170067      姓名：古宇恆"
   ],
   "metadata": {}
  },
  {
   "cell_type": "markdown",
   "source": [
    "## 讀取文字資料"
   ],
   "metadata": {}
  },
  {
   "cell_type": "code",
   "execution_count": 13,
   "source": [
    "file1 = 'first.txt'\n",
    "file2 = 'second.txt'\n",
    "file3 = 'third.txt'"
   ],
   "outputs": [],
   "metadata": {}
  },
  {
   "cell_type": "code",
   "execution_count": 14,
   "source": [
    "with open(file1) as file:\n",
    "    sentences1 = file.readlines()\n",
    "with open(file2) as file:\n",
    "    sentences2 = file.readlines()\n",
    "with open(file3) as file:\n",
    "    sentences3 = file.readlines()"
   ],
   "outputs": [],
   "metadata": {}
  },
  {
   "cell_type": "markdown",
   "source": [
    "## 文字除理"
   ],
   "metadata": {}
  },
  {
   "cell_type": "code",
   "execution_count": 15,
   "source": [
    "sentences1 = [sentences.strip() for sentences in sentences1]\n",
    "sentences2 = [sentences.strip() for sentences in sentences2]\n",
    "sentences3 = [sentences.strip() for sentences in sentences3]"
   ],
   "outputs": [],
   "metadata": {}
  },
  {
   "cell_type": "markdown",
   "source": [
    "## 產生文青句"
   ],
   "metadata": {}
  },
  {
   "cell_type": "code",
   "execution_count": 16,
   "source": [
    "import random\n",
    "random.choice(sentences1) + '，' + random.choice(sentences2) + '，' + random.choice(sentences3) + '。'"
   ],
   "outputs": [
    {
     "output_type": "execute_result",
     "data": {
      "text/plain": [
       "'在內心的迴廊，傾聽青鳥的變奏，品味孤獨。'"
      ]
     },
     "metadata": {},
     "execution_count": 16
    }
   ],
   "metadata": {}
  }
 ],
 "metadata": {
  "orig_nbformat": 4,
  "language_info": {
   "name": "python",
   "version": "3.9.7",
   "mimetype": "text/x-python",
   "codemirror_mode": {
    "name": "ipython",
    "version": 3
   },
   "pygments_lexer": "ipython3",
   "nbconvert_exporter": "python",
   "file_extension": ".py"
  },
  "kernelspec": {
   "name": "python3",
   "display_name": "Python 3.9.7 64-bit"
  },
  "interpreter": {
   "hash": "aee8b7b246df8f9039afb4144a1f6fd8d2ca17a180786b69acc140d282b71a49"
  }
 },
 "nbformat": 4,
 "nbformat_minor": 2
}