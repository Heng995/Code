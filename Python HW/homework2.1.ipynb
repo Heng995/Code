{
 "cells": [
  {
   "cell_type": "markdown",
   "source": [
    "班級:資工三乙          學號:B08170067          姓名:古宇恆"
   ],
   "metadata": {}
  },
  {
   "cell_type": "code",
   "execution_count": 1,
   "source": [
    "import random\r\n",
    "random.randint(1, 10)"
   ],
   "outputs": [
    {
     "output_type": "execute_result",
     "data": {
      "text/plain": [
       "7"
      ]
     },
     "metadata": {},
     "execution_count": 1
    }
   ],
   "metadata": {}
  },
  {
   "cell_type": "code",
   "execution_count": 2,
   "source": [
    "import time"
   ],
   "outputs": [],
   "metadata": {}
  },
  {
   "cell_type": "code",
   "execution_count": 3,
   "source": [
    "while(True):\r\n",
    "    t = random.randint(1, 10)\r\n",
    "    input(str(t) + ' 秒時間測試，準備好就按 Enter 鍵開始')\r\n",
    "    \r\n",
    "    start = time.time()\r\n",
    "    input('開始計時! 按 Enter 鍵結束計時!')\r\n",
    "    end = time.time()\r\n",
    "    \r\n",
    "    seconds = end - start\r\n",
    "    print('你的秒數:', round(seconds, 2))\r\n",
    "    \r\n",
    "    error = abs(t - seconds)\r\n",
    "    print('誤差秒數:', round(error, 2))\r\n",
    "    \r\n",
    "    acc = round(1 - (error / t), 2)\r\n",
    "    print('準確度:', acc)\r\n",
    "    \r\n",
    "    try_again = input('要再試一次嗎?(yes/no)')\r\n",
    "    if(try_again == 'yes'):\r\n",
    "        continue\r\n",
    "    else:\r\n",
    "        break"
   ],
   "outputs": [
    {
     "output_type": "stream",
     "name": "stdout",
     "text": [
      "你的秒數: 10.26\n",
      "誤差秒數: 0.26\n",
      "準確度: 0.97\n",
      "你的秒數: 5.51\n",
      "誤差秒數: 0.51\n",
      "準確度: 0.9\n"
     ]
    }
   ],
   "metadata": {}
  }
 ],
 "metadata": {
  "kernelspec": {
   "name": "python3",
   "display_name": "Python 3.9.6 64-bit"
  },
  "language_info": {
   "codemirror_mode": {
    "name": "ipython",
    "version": 3
   },
   "file_extension": ".py",
   "mimetype": "text/x-python",
   "name": "python",
   "nbconvert_exporter": "python",
   "pygments_lexer": "ipython3",
   "version": "3.9.6"
  },
  "interpreter": {
   "hash": "e066906fe76e116fe298151430f54f14f8fa60f14e5cf26cd32bf8c49c87e31e"
  }
 },
 "nbformat": 4,
 "nbformat_minor": 5
}