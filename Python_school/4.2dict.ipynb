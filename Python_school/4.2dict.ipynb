{
 "cells": [
  {
   "cell_type": "markdown",
   "source": [
    "# 程式設計作業 4.2 dict 操作"
   ],
   "metadata": {}
  },
  {
   "cell_type": "markdown",
   "source": [
    "## 一、建立Dictionary的方法"
   ],
   "metadata": {}
  },
  {
   "cell_type": "markdown",
   "source": [
    "### 1.於 {} 符號中輸入每個元素的鍵(Key)與值(Value)。"
   ],
   "metadata": {}
  },
  {
   "cell_type": "code",
   "execution_count": 9,
   "source": [
    "# 身高\n",
    "heights = {\"Mike\": 170, \"Peter\": 165}\n",
    "\n",
    "# 車款\n",
    "cars = {1: \"nissan\", 2: \"toyota\"}\n",
    "\n",
    "print(heights)\n",
    "print(cars)"
   ],
   "outputs": [
    {
     "output_type": "stream",
     "name": "stdout",
     "text": [
      "{'Mike': 170, 'Peter': 165}\n",
      "{1: 'nissan', 2: 'toyota'}\n"
     ]
    }
   ],
   "metadata": {}
  },
  {
   "cell_type": "markdown",
   "source": [
    "## 2.使用dict()方法，傳入鍵(Key)的名稱，並且指派值(Value)給它。\n",
    "## 此種傳入參數稱為關鍵字參數(keyword arguments)，後續會出文章詳加介紹。"
   ],
   "metadata": {}
  },
  {
   "cell_type": "code",
   "execution_count": 10,
   "source": [
    "# 身高\n",
    "heights = dict(Mike=170, Peter=165)\n",
    "print(heights)"
   ],
   "outputs": [
    {
     "output_type": "stream",
     "name": "stdout",
     "text": [
      "{'Mike': 170, 'Peter': 165}\n"
     ]
    }
   ],
   "metadata": {}
  },
  {
   "cell_type": "markdown",
   "source": [
    "## 二、存取Dictionary元素的方法"
   ],
   "metadata": {}
  },
  {
   "cell_type": "markdown",
   "source": [
    "### 1.使用 [ ] 符號，傳入鍵(Key)的名稱。\n",
    "### 不像字串(String)、串列(List)及元組(Tuples)是傳入位置索引值。\n"
   ],
   "metadata": {}
  },
  {
   "cell_type": "code",
   "execution_count": 11,
   "source": [
    "# 身高\n",
    "heights = {\"Mike\": 170, \"Peter\": 165}\n",
    "print(heights[\"Mike\"])"
   ],
   "outputs": [
    {
     "output_type": "stream",
     "name": "stdout",
     "text": [
      "170\n"
     ]
    }
   ],
   "metadata": {}
  },
  {
   "cell_type": "code",
   "execution_count": 12,
   "source": [
    "# 身高\n",
    "heights = {\"Mike\": 170, \"Peter\": 165}\n",
    "\n",
    "if \"Harry\" in heights:\n",
    "    print(heights[\"Harry\"])"
   ],
   "outputs": [],
   "metadata": {}
  },
  {
   "cell_type": "markdown",
   "source": [
    "### 2.透過Python迴圈來存取字典(Dictionary)中的每一個元素。\n"
   ],
   "metadata": {}
  },
  {
   "cell_type": "code",
   "execution_count": 13,
   "source": [
    "# 身高\n",
    "heights = {\"Mike\": 170, \"Peter\": 165}\n",
    "\n",
    "for height in heights:\n",
    "    print(height)"
   ],
   "outputs": [
    {
     "output_type": "stream",
     "name": "stdout",
     "text": [
      "Mike\n",
      "Peter\n"
     ]
    }
   ],
   "metadata": {}
  },
  {
   "cell_type": "code",
   "execution_count": 14,
   "source": [
    "# 身高\n",
    "heights = {\"Mike\": 170, \"Peter\": 165}\n",
    "\n",
    "for height in heights.items():\n",
    "    print(height)"
   ],
   "outputs": [
    {
     "output_type": "stream",
     "name": "stdout",
     "text": [
      "('Mike', 170)\n",
      "('Peter', 165)\n"
     ]
    }
   ],
   "metadata": {}
  },
  {
   "cell_type": "markdown",
   "source": [
    "## 三、新增Dictionary元素的方法"
   ],
   "metadata": {}
  },
  {
   "cell_type": "markdown",
   "source": [
    "### 1.於 [] 符號中輸入要新增的鍵(Key)的名稱，並且指派一個值(Value)給它。"
   ],
   "metadata": {}
  },
  {
   "cell_type": "code",
   "execution_count": 15,
   "source": [
    "# 身高\n",
    "heights = {\"Mike\":170, \"Peter\":165}\n",
    "\n",
    "heights[\"John\"] = 175\n",
    "\n",
    "print(heights)"
   ],
   "outputs": [
    {
     "output_type": "stream",
     "name": "stdout",
     "text": [
      "{'Mike': 170, 'Peter': 165, 'John': 175}\n"
     ]
    }
   ],
   "metadata": {}
  },
  {
   "cell_type": "markdown",
   "source": [
    "## 四、修改Dictionary元素的方法\n"
   ],
   "metadata": {}
  },
  {
   "cell_type": "markdown",
   "source": [
    "### 1.於 [] 符號中輸入鍵(Key)的名稱，並且指派要修改的值(Value)給它。\n"
   ],
   "metadata": {}
  },
  {
   "cell_type": "code",
   "execution_count": 16,
   "source": [
    "# 身高\n",
    "heights = {\"Mike\": 170, \"Peter\": 165}\n",
    "\n",
    "heights[\"Peter\"] = 160\n",
    "\n",
    "print(heights)"
   ],
   "outputs": [
    {
     "output_type": "stream",
     "name": "stdout",
     "text": [
      "{'Mike': 170, 'Peter': 160}\n"
     ]
    }
   ],
   "metadata": {}
  },
  {
   "cell_type": "markdown",
   "source": [
    "## 五、刪除Dictionary元素的方法\n"
   ],
   "metadata": {}
  },
  {
   "cell_type": "markdown",
   "source": [
    "### 1.使用del指令，並且於 [] 符號中輸入要刪除的元素鍵(Key)名稱。\n"
   ],
   "metadata": {}
  },
  {
   "cell_type": "code",
   "execution_count": 17,
   "source": [
    "# 身高\n",
    "heights = {\"Mike\":170, \"Peter\": 165}\n",
    "\n",
    "del heights[\"Peter\"]\n",
    "\n",
    "print(heights)"
   ],
   "outputs": [
    {
     "output_type": "stream",
     "name": "stdout",
     "text": [
      "{'Mike': 170}\n"
     ]
    }
   ],
   "metadata": {}
  },
  {
   "cell_type": "markdown",
   "source": [
    "### 2.使用clear()方法，刪除字典(Dictionary)中的所有元素。\n"
   ],
   "metadata": {}
  },
  {
   "cell_type": "code",
   "execution_count": 20,
   "source": [
    "# 身高\n",
    "heights = {\"Mike\": 170, \"Peter\": 165}\n",
    "\n",
    "heights.clear()\n",
    "\n",
    "print(heights)"
   ],
   "outputs": [
    {
     "output_type": "stream",
     "name": "stdout",
     "text": [
      "{}\n"
     ]
    }
   ],
   "metadata": {}
  },
  {
   "cell_type": "markdown",
   "source": [
    "## 六、尋找Dictionary元素的方法\n"
   ],
   "metadata": {}
  },
  {
   "cell_type": "markdown",
   "source": [
    "### 1.使用get()方法，傳入要尋找的鍵(Key)名稱，它會回傳其值(Value)。\n",
    "### 如果傳入的鍵(Key)名稱不存在，get()方法預設會回傳None。\n"
   ],
   "metadata": {}
  },
  {
   "cell_type": "code",
   "execution_count": 21,
   "source": [
    "heights = {\"Mike\": 170, \"Peter\": 165}\n",
    "\n",
    "print(heights.get(\"Peter\"))\n",
    "\n",
    "print(heights.get(\"Harry\"))"
   ],
   "outputs": [
    {
     "output_type": "stream",
     "name": "stdout",
     "text": [
      "165\n",
      "None\n"
     ]
    }
   ],
   "metadata": {}
  },
  {
   "cell_type": "code",
   "execution_count": 22,
   "source": [
    "heights = {\"Mike\": 170, \"Peter\": 165}\n",
    "\n",
    "print(heights.get(\"Peter\"))\n",
    "\n",
    "print(heights.get(\"Harry\", 0))"
   ],
   "outputs": [
    {
     "output_type": "stream",
     "name": "stdout",
     "text": [
      "165\n",
      "0\n"
     ]
    }
   ],
   "metadata": {}
  }
 ],
 "metadata": {
  "orig_nbformat": 4,
  "language_info": {
   "name": "python",
   "version": "3.9.7",
   "mimetype": "text/x-python",
   "codemirror_mode": {
    "name": "ipython",
    "version": 3
   },
   "pygments_lexer": "ipython3",
   "nbconvert_exporter": "python",
   "file_extension": ".py"
  },
  "kernelspec": {
   "name": "python3",
   "display_name": "Python 3.9.7 64-bit"
  },
  "interpreter": {
   "hash": "aee8b7b246df8f9039afb4144a1f6fd8d2ca17a180786b69acc140d282b71a49"
  }
 },
 "nbformat": 4,
 "nbformat_minor": 2
}