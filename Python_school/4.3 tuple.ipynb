{
 "cells": [
  {
   "cell_type": "markdown",
   "source": [
    "# 程式設計作業 4.3 tuple 操作\n"
   ],
   "metadata": {}
  },
  {
   "cell_type": "markdown",
   "source": [
    "## 一、建立Tuples的方法"
   ],
   "metadata": {}
  },
  {
   "cell_type": "markdown",
   "source": [
    "### 1. 於 () 符號中輸入資料，並且以逗號區隔。\n"
   ],
   "metadata": {}
  },
  {
   "cell_type": "code",
   "execution_count": 2,
   "source": [
    "ages = (26, 30, 40, 50)\n",
    "print(ages)\n",
    "\n",
    "titles = (\"HelloPython\", \"Tuples\")\n",
    "print(titles)"
   ],
   "outputs": [
    {
     "output_type": "stream",
     "name": "stdout",
     "text": [
      "(26, 30, 40, 50)\n",
      "('HelloPython', 'Tuples')\n"
     ]
    }
   ],
   "metadata": {}
  },
  {
   "cell_type": "markdown",
   "source": [
    "### 2. 不加 () 符號，直接指派資料，並且以逗號區隔，Python會預設為Tuples(元組)資料型態，不過要注意的是如果只有一個資料，一定要再加一個逗號。"
   ],
   "metadata": {}
  },
  {
   "cell_type": "code",
   "execution_count": 3,
   "source": [
    "ages = 26,30, 40, 50\n",
    "print(ages)\n",
    "print(\"ages data type: \", type(ages))\n",
    "\n",
    "values = 10,\n",
    "print(values)\n",
    "print(\"values data type\", type(values))"
   ],
   "outputs": [
    {
     "output_type": "stream",
     "name": "stdout",
     "text": [
      "(26, 30, 40, 50)\n",
      "ages data type:  <class 'tuple'>\n",
      "(10,)\n",
      "values data type <class 'tuple'>\n"
     ]
    }
   ],
   "metadata": {}
  },
  {
   "cell_type": "markdown",
   "source": [
    "## 3. 使用tuple()方法，傳入Iterable(可疊代的)物件來建立Tuples(元組)。"
   ],
   "metadata": {}
  },
  {
   "cell_type": "code",
   "execution_count": 4,
   "source": [
    "ages = tuple ([26, 30])\n",
    "print(ages)\n",
    "\n",
    "names = tuple(\"Mike\")\n",
    "print(names)\n",
    "\n",
    "numbers = tuple(range(10))\n",
    "print(numbers)"
   ],
   "outputs": [
    {
     "output_type": "stream",
     "name": "stdout",
     "text": [
      "(26, 30)\n",
      "('M', 'i', 'k', 'e')\n",
      "(0, 1, 2, 3, 4, 5, 6, 7, 8, 9)\n"
     ]
    }
   ],
   "metadata": {}
  },
  {
   "cell_type": "markdown",
   "source": [
    "### 4. 使用 * 符號來建立Tuples(元組)。\n"
   ],
   "metadata": {}
  },
  {
   "cell_type": "code",
   "execution_count": 5,
   "source": [
    "ages = (26, 30) * 3\n",
    "print(ages) "
   ],
   "outputs": [
    {
     "output_type": "stream",
     "name": "stdout",
     "text": [
      "(26, 30, 26, 30, 26, 30)\n"
     ]
    }
   ],
   "metadata": {}
  },
  {
   "cell_type": "markdown",
   "source": [
    "## 二、存取Tuples元素的方法\n",
    "\n"
   ],
   "metadata": {}
  },
  {
   "cell_type": "markdown",
   "source": [
    "### 1. Tuples(元組)存取元素的方式和List(串列)、String(字串)一樣，使用 [ ] 符號並傳入索引值(從0開始計算)來進行存取，如下範例：\n"
   ],
   "metadata": {}
  },
  {
   "cell_type": "code",
   "execution_count": 6,
   "source": [
    "ages = (25,30, 40, 50)\n",
    "print(ages[1])"
   ],
   "outputs": [
    {
     "output_type": "stream",
     "name": "stdout",
     "text": [
      "30\n"
     ]
    }
   ],
   "metadata": {}
  },
  {
   "cell_type": "markdown",
   "source": [
    "### 2. 如果想取得特定範圍的Tuples(元組)元素，使用 [:] 符號並傳入索引值。"
   ],
   "metadata": {}
  },
  {
   "cell_type": "code",
   "execution_count": 7,
   "source": [
    "# index 0 1 2 3 \n",
    "ages = (25, 30, 40, 50)\n",
    "\n",
    "#in [1:3]代表1~2不包含3，存取第二個到第三個元素\n",
    "print(ages[1: 3])\n",
    "\n",
    "#存取第二個元素到第三個元素\n",
    "print(ages[1:]) \n",
    "\n",
    "#存取第一個元素到第三個元素\n",
    "print(ages[:3]) #[:3]代表0~2不包含\n",
    "\n",
    "# 複製Tuple(元組)\n",
    "print(ages[:])"
   ],
   "outputs": [
    {
     "output_type": "stream",
     "name": "stdout",
     "text": [
      "(30, 40)\n",
      "(30, 40, 50)\n",
      "(25, 30, 40)\n",
      "(25, 30, 40, 50)\n"
     ]
    }
   ],
   "metadata": {}
  },
  {
   "cell_type": "markdown",
   "source": [
    "### 3. Tuples(元組)和List(串列)、String(字串)一樣可以透過Python迴圈來讀取每一個元素，因為Tuples(元組)也是Iterable(可疊代的)，如下範例：\n"
   ],
   "metadata": {}
  },
  {
   "cell_type": "code",
   "execution_count": 8,
   "source": [
    "ages = (25, 30, 40, 50)\n",
    "\n",
    "for age in ages:\n",
    "    print(age)"
   ],
   "outputs": [
    {
     "output_type": "stream",
     "name": "stdout",
     "text": [
      "25\n",
      "30\n",
      "40\n",
      "50\n"
     ]
    }
   ],
   "metadata": {}
  },
  {
   "cell_type": "markdown",
   "source": [
    "## 三、尋找Tuples元素的方法\n"
   ],
   "metadata": {}
  },
  {
   "cell_type": "markdown",
   "source": [
    "### 1. 可以使用index()方法，將要尋找的Tuples元素傳入，來取得該元素的索引值。"
   ],
   "metadata": {}
  },
  {
   "cell_type": "code",
   "execution_count": 9,
   "source": [
    "ages = (25, 30, 40, 50)\n",
    "print(ages.index(30))"
   ],
   "outputs": [
    {
     "output_type": "stream",
     "name": "stdout",
     "text": [
      "1\n"
     ]
    }
   ],
   "metadata": {}
  },
  {
   "cell_type": "markdown",
   "source": [
    "### 在取得Tuples元素索引值前，和List(串列)一樣先判斷該元素是否在Tuples中，否則當元素不在Tuples中時，會發生ValuesError例外錯誤。"
   ],
   "metadata": {}
  },
  {
   "cell_type": "code",
   "execution_count": 10,
   "source": [
    "age = (25, 30, 40, 50)\n",
    "\n",
    "# 如果100在Tuples中，則印出100\n",
    "if 100 in ages:\n",
    "    print(ages.index(100))\n",
    "else:\n",
    "    print(\"100 not in tuples.\") #100不在Tuples中"
   ],
   "outputs": [
    {
     "output_type": "stream",
     "name": "stdout",
     "text": [
      "100 not in tuples.\n"
     ]
    }
   ],
   "metadata": {}
  },
  {
   "cell_type": "markdown",
   "source": [
    "### 2. 可以使用count()方法，將要尋找的Tuples元素傳入，來取得該元素在Tuples中的個數。"
   ],
   "metadata": {}
  },
  {
   "cell_type": "code",
   "execution_count": 11,
   "source": [
    "ages = (25, 30, 40, 25, 60, 25)\n",
    "print(ages.count(25))"
   ],
   "outputs": [
    {
     "output_type": "stream",
     "name": "stdout",
     "text": [
      "3\n"
     ]
    }
   ],
   "metadata": {}
  }
 ],
 "metadata": {
  "orig_nbformat": 4,
  "language_info": {
   "name": "python",
   "version": "3.9.7",
   "mimetype": "text/x-python",
   "codemirror_mode": {
    "name": "ipython",
    "version": 3
   },
   "pygments_lexer": "ipython3",
   "nbconvert_exporter": "python",
   "file_extension": ".py"
  },
  "kernelspec": {
   "name": "python3",
   "display_name": "Python 3.9.7 64-bit"
  },
  "interpreter": {
   "hash": "aee8b7b246df8f9039afb4144a1f6fd8d2ca17a180786b69acc140d282b71a49"
  }
 },
 "nbformat": 4,
 "nbformat_minor": 2
}