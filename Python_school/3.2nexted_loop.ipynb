{
 "cells": [
  {
   "cell_type": "markdown",
   "source": [
    "# Nested Loop 數字之合\r\n"
   ],
   "metadata": {}
  },
  {
   "cell_type": "markdown",
   "source": [
    "## 建立三個 List"
   ],
   "metadata": {}
  },
  {
   "cell_type": "code",
   "execution_count": 20,
   "source": [
    "a = [2, 4, 6, 8, 10,12]\r\n",
    "b = [1, 3, 5, 7, 9, 11]\r\n",
    "c = [1, 2, 3, 5, 8, 13]"
   ],
   "outputs": [],
   "metadata": {}
  },
  {
   "cell_type": "markdown",
   "source": [
    "## 第一小題\r\n",
    "輸入一個數字 (例如 6) ，請輸出 其在 a list 的位置索引(index)  6--> 2"
   ],
   "metadata": {}
  },
  {
   "cell_type": "code",
   "execution_count": 21,
   "source": [
    "print(a.index(int(input('輸入一數字:'))))"
   ],
   "outputs": [
    {
     "output_type": "stream",
     "name": "stdout",
     "text": [
      "2\n"
     ]
    }
   ],
   "metadata": {}
  },
  {
   "cell_type": "markdown",
   "source": [
    "## 第二小題\r\n",
    "輸入一個數字(例如 9) ，\r\n",
    "這個數字由 a list 哪一個數字與 b list 哪一個 數字 相加之合，\r\n",
    "輸出 a list 數字與b list 數字的位置索引。"
   ],
   "metadata": {}
  },
  {
   "cell_type": "code",
   "execution_count": 22,
   "source": [
    "num = int(input('輸入一數字:'))\r\n",
    "for i in a:\r\n",
    "    for j in b:\r\n",
    "        if num-i-j == 0:\r\n",
    "            print((a.index(i), b.index(num-i)))"
   ],
   "outputs": [
    {
     "output_type": "stream",
     "name": "stdout",
     "text": [
      "(0, 3)\n",
      "(1, 2)\n",
      "(2, 1)\n",
      "(3, 0)\n"
     ]
    }
   ],
   "metadata": {}
  },
  {
   "cell_type": "markdown",
   "source": [
    "## 第三小題\r\n",
    "輸入一個數字(例如 20) ，這個數字由 a list 哪一個數字、 b list 哪一個 數字 與  c list 哪一個數字 相加之合，輸出 a list 數字、b list 數字與 c list 數字的位置索引。"
   ],
   "metadata": {}
  },
  {
   "cell_type": "code",
   "execution_count": 23,
   "source": [
    "num = int(input('請輸入一數字:'))\r\n",
    "for i in a:\r\n",
    "    for j in b:\r\n",
    "        for k in c:\r\n",
    "            if num-i-j-k == 0:\r\n",
    "                print((a.index(i), b.index(j), c.index(k)))"
   ],
   "outputs": [
    {
     "output_type": "stream",
     "name": "stdout",
     "text": [
      "(0, 2, 5)\n",
      "(1, 1, 5)\n",
      "(1, 5, 3)\n",
      "(2, 0, 5)\n",
      "(2, 4, 3)\n",
      "(2, 5, 2)\n",
      "(3, 3, 3)\n",
      "(3, 4, 2)\n",
      "(3, 5, 0)\n",
      "(4, 2, 3)\n",
      "(4, 3, 2)\n",
      "(4, 4, 0)\n",
      "(5, 1, 3)\n",
      "(5, 2, 2)\n",
      "(5, 3, 0)\n"
     ]
    }
   ],
   "metadata": {}
  }
 ],
 "metadata": {
  "orig_nbformat": 4,
  "language_info": {
   "name": "python",
   "version": "3.9.6",
   "mimetype": "text/x-python",
   "codemirror_mode": {
    "name": "ipython",
    "version": 3
   },
   "pygments_lexer": "ipython3",
   "nbconvert_exporter": "python",
   "file_extension": ".py"
  },
  "kernelspec": {
   "name": "python3",
   "display_name": "Python 3.9.6 64-bit"
  },
  "interpreter": {
   "hash": "e066906fe76e116fe298151430f54f14f8fa60f14e5cf26cd32bf8c49c87e31e"
  }
 },
 "nbformat": 4,
 "nbformat_minor": 2
}