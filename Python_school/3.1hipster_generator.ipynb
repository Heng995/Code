{
 "cells": [
  {
   "cell_type": "markdown",
   "source": [
    "# 從檔案讀取文字資料\n",
    "\n",
    "open(file, mode='r', buffering=-1, encoding=None, errors=None, newline=None, closefd=True, opener=None)\n",
    "\n",
    "• file檔案路徑\n",
    "\n",
    "• encoding: 檔案編碼\n",
    "\n",
    "• mode: 'r'讀取、‘w'寫入....等\n",
    "\n",
    "## with open\n",
    "\n",
    "• 自動關閉檔案\n",
    "\n",
    "## 讀取方式\n",
    "\n",
    "• 讀取全部：read()\n",
    "\n",
    "• 讀取一行：readline()\n",
    "\n",
    "• 讀取每行：readlines()\n"
   ],
   "metadata": {}
  },
  {
   "cell_type": "code",
   "execution_count": 17,
   "source": [
    "filename1 = '第一句.txt'\r\n",
    "filename2 = '第二句.txt'\r\n",
    "filename3 = '第三句.txt'"
   ],
   "outputs": [],
   "metadata": {}
  },
  {
   "cell_type": "code",
   "execution_count": 18,
   "source": [
    "with open(filename1) as file:\r\n",
    "    sentences1 = file.readlines()"
   ],
   "outputs": [],
   "metadata": {}
  },
  {
   "cell_type": "code",
   "execution_count": 19,
   "source": [
    "sentences1"
   ],
   "outputs": [
    {
     "output_type": "execute_result",
     "data": {
      "text/plain": [
       "['在普羅旺斯的天空下\\n', '在老屋咖啡店的一隅\\n', '靜謐午後\\n', '清晨四點半\\n', '在內心的迴廊']"
      ]
     },
     "metadata": {},
     "execution_count": 19
    }
   ],
   "metadata": {}
  },
  {
   "cell_type": "code",
   "execution_count": 20,
   "source": [
    "with open(filename2) as file:\r\n",
    "    sentences2 = file.readlines()"
   ],
   "outputs": [],
   "metadata": {}
  },
  {
   "cell_type": "code",
   "execution_count": 21,
   "source": [
    "sentences2"
   ],
   "outputs": [
    {
     "output_type": "execute_result",
     "data": {
      "text/plain": [
       "['輕捧卡夫卡\\n', '啜飲咖啡的黑\\n', '抖去一身俗塵\\n', '傾聽青鳥的變奏\\n', '懷念我的懷念']"
      ]
     },
     "metadata": {},
     "execution_count": 21
    }
   ],
   "metadata": {}
  },
  {
   "cell_type": "code",
   "execution_count": 22,
   "source": [
    "with open(filename3) as file:\r\n",
    "    sentences3 = file.readlines()"
   ],
   "outputs": [],
   "metadata": {}
  },
  {
   "cell_type": "code",
   "execution_count": 23,
   "source": [
    "sentences3"
   ],
   "outputs": [
    {
     "output_type": "execute_result",
     "data": {
      "text/plain": [
       "['體驗一個人小確幸\\n', '等待下一個轉角邂逅\\n', '品味孤獨\\n', '讓心微旅行\\n', '淘洗生命']"
      ]
     },
     "metadata": {},
     "execution_count": 23
    }
   ],
   "metadata": {}
  },
  {
   "cell_type": "markdown",
   "source": [
    "# 文字處理\n",
    "\n",
    "str.strip([chars])\n",
    "\n",
    "• 移除字串頭尾指定的符號，預設會移除換行符號 (\\n) 、空格 (space) 。\n",
    "\n",
    "## 串列綜合運算 (List Comprehension)"
   ],
   "metadata": {}
  },
  {
   "cell_type": "code",
   "execution_count": 24,
   "source": [
    "sentences1 = [sentences.strip() for sentences in sentences1]"
   ],
   "outputs": [],
   "metadata": {}
  },
  {
   "cell_type": "code",
   "execution_count": 25,
   "source": [
    "sentences1"
   ],
   "outputs": [
    {
     "output_type": "execute_result",
     "data": {
      "text/plain": [
       "['在普羅旺斯的天空下', '在老屋咖啡店的一隅', '靜謐午後', '清晨四點半', '在內心的迴廊']"
      ]
     },
     "metadata": {},
     "execution_count": 25
    }
   ],
   "metadata": {}
  },
  {
   "cell_type": "code",
   "execution_count": 26,
   "source": [
    "sentences2 = [sentences.strip() for sentences in sentences2]"
   ],
   "outputs": [],
   "metadata": {}
  },
  {
   "cell_type": "code",
   "execution_count": 27,
   "source": [
    "sentences2"
   ],
   "outputs": [
    {
     "output_type": "execute_result",
     "data": {
      "text/plain": [
       "['輕捧卡夫卡', '啜飲咖啡的黑', '抖去一身俗塵', '傾聽青鳥的變奏', '懷念我的懷念']"
      ]
     },
     "metadata": {},
     "execution_count": 27
    }
   ],
   "metadata": {}
  },
  {
   "cell_type": "code",
   "execution_count": 28,
   "source": [
    "sentences3 = [sentences.strip() for sentences in sentences3]"
   ],
   "outputs": [],
   "metadata": {}
  },
  {
   "cell_type": "code",
   "execution_count": 29,
   "source": [
    "sentences3"
   ],
   "outputs": [
    {
     "output_type": "execute_result",
     "data": {
      "text/plain": [
       "['體驗一個人小確幸', '等待下一個轉角邂逅', '品味孤獨', '讓心微旅行', '淘洗生命']"
      ]
     },
     "metadata": {},
     "execution_count": 29
    }
   ],
   "metadata": {}
  },
  {
   "cell_type": "markdown",
   "source": [
    "# 產生文青語句\n",
    "\n",
    "random.choice(seq)\n",
    "\n",
    "  •隨機擇一 "
   ],
   "metadata": {}
  },
  {
   "cell_type": "code",
   "execution_count": 30,
   "source": [
    "import random"
   ],
   "outputs": [],
   "metadata": {}
  },
  {
   "cell_type": "code",
   "execution_count": 31,
   "source": [
    "random.choice(sentences1) + '，' + random.choice(sentences2) + '，' + random.choice(sentences3) + '。'"
   ],
   "outputs": [
    {
     "output_type": "execute_result",
     "data": {
      "text/plain": [
       "'靜謐午後，抖去一身俗塵，讓心微旅行。'"
      ]
     },
     "metadata": {},
     "execution_count": 31
    }
   ],
   "metadata": {}
  }
 ],
 "metadata": {
  "orig_nbformat": 4,
  "language_info": {
   "name": "python",
   "version": "3.9.6",
   "mimetype": "text/x-python",
   "codemirror_mode": {
    "name": "ipython",
    "version": 3
   },
   "pygments_lexer": "ipython3",
   "nbconvert_exporter": "python",
   "file_extension": ".py"
  },
  "kernelspec": {
   "name": "python3",
   "display_name": "Python 3.9.6 64-bit"
  },
  "interpreter": {
   "hash": "e066906fe76e116fe298151430f54f14f8fa60f14e5cf26cd32bf8c49c87e31e"
  }
 },
 "nbformat": 4,
 "nbformat_minor": 2
}