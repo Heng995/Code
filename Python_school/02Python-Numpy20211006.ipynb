{
 "cells": [
  {
   "cell_type": "markdown",
   "source": [
    "Numpy 陣列範例"
   ],
   "metadata": {}
  },
  {
   "cell_type": "code",
   "execution_count": 2,
   "source": [
    "#陣列建立一維\n",
    "import numpy as np\n",
    "\n",
    "a = np.array([1, 2, 3, 4, 5]) \n",
    "b = np.array((1, 2, 3, 4, 5)) \n",
    "print(type(a))  \n",
    "print(type(b))        \n",
    "print(a[0], a[1], a[2], a[3], a[4])\n",
    "b[0] = 5    \n",
    "print(b) \n",
    "b[4] = 0\n",
    "print(b)    "
   ],
   "outputs": [
    {
     "output_type": "error",
     "ename": "ModuleNotFoundError",
     "evalue": "No module named 'numpy'",
     "traceback": [
      "\u001b[0;31m---------------------------------------------------------------------------\u001b[0m",
      "\u001b[0;31mModuleNotFoundError\u001b[0m                       Traceback (most recent call last)",
      "\u001b[0;32m/var/folders/hk/4rr3lz8x5vxgx7z4sz_tcqzc0000gn/T/ipykernel_1664/2266271139.py\u001b[0m in \u001b[0;36m<module>\u001b[0;34m\u001b[0m\n\u001b[1;32m      1\u001b[0m \u001b[0;31m#陣列建立一維\u001b[0m\u001b[0;34m\u001b[0m\u001b[0;34m\u001b[0m\u001b[0m\n\u001b[0;32m----> 2\u001b[0;31m \u001b[0;32mimport\u001b[0m \u001b[0mnumpy\u001b[0m \u001b[0;32mas\u001b[0m \u001b[0mnp\u001b[0m\u001b[0;34m\u001b[0m\u001b[0;34m\u001b[0m\u001b[0m\n\u001b[0m\u001b[1;32m      3\u001b[0m \u001b[0;34m\u001b[0m\u001b[0m\n\u001b[1;32m      4\u001b[0m \u001b[0ma\u001b[0m \u001b[0;34m=\u001b[0m \u001b[0mnp\u001b[0m\u001b[0;34m.\u001b[0m\u001b[0marray\u001b[0m\u001b[0;34m(\u001b[0m\u001b[0;34m[\u001b[0m\u001b[0;36m1\u001b[0m\u001b[0;34m,\u001b[0m \u001b[0;36m2\u001b[0m\u001b[0;34m,\u001b[0m \u001b[0;36m3\u001b[0m\u001b[0;34m,\u001b[0m \u001b[0;36m4\u001b[0m\u001b[0;34m,\u001b[0m \u001b[0;36m5\u001b[0m\u001b[0;34m]\u001b[0m\u001b[0;34m)\u001b[0m\u001b[0;34m\u001b[0m\u001b[0;34m\u001b[0m\u001b[0m\n\u001b[1;32m      5\u001b[0m \u001b[0mb\u001b[0m \u001b[0;34m=\u001b[0m \u001b[0mnp\u001b[0m\u001b[0;34m.\u001b[0m\u001b[0marray\u001b[0m\u001b[0;34m(\u001b[0m\u001b[0;34m(\u001b[0m\u001b[0;36m1\u001b[0m\u001b[0;34m,\u001b[0m \u001b[0;36m2\u001b[0m\u001b[0;34m,\u001b[0m \u001b[0;36m3\u001b[0m\u001b[0;34m,\u001b[0m \u001b[0;36m4\u001b[0m\u001b[0;34m,\u001b[0m \u001b[0;36m5\u001b[0m\u001b[0;34m)\u001b[0m\u001b[0;34m)\u001b[0m\u001b[0;34m\u001b[0m\u001b[0;34m\u001b[0m\u001b[0m\n",
      "\u001b[0;31mModuleNotFoundError\u001b[0m: No module named 'numpy'"
     ]
    }
   ],
   "metadata": {}
  },
  {
   "cell_type": "code",
   "execution_count": 3,
   "source": [
    "##陣列建立二維\n",
    "a = np.array([[1,2,3],[4,5,6]])\n",
    "print(a[0, 0], a[0, 1], a[0, 2])\n",
    "print(a[1, 0], a[1, 1], a[1, 2])\n",
    "a[0, 0] = 6\n",
    "a[1, 2] = 1\n",
    "print(a)\n",
    "\n",
    "a = np.array([1, 2, 3, 4, 5], int) \n",
    "b = np.array((1, 2, 3, 4, 5), dtype=float) \n",
    "print(a) \n",
    "print(b)    \n",
    "print(type(a))\n",
    "print(type(b))"
   ],
   "outputs": [
    {
     "output_type": "error",
     "ename": "NameError",
     "evalue": "name 'np' is not defined",
     "traceback": [
      "\u001b[0;31m---------------------------------------------------------------------------\u001b[0m",
      "\u001b[0;31mNameError\u001b[0m                                 Traceback (most recent call last)",
      "\u001b[0;32m/var/folders/hk/4rr3lz8x5vxgx7z4sz_tcqzc0000gn/T/ipykernel_1664/158873096.py\u001b[0m in \u001b[0;36m<module>\u001b[0;34m\u001b[0m\n\u001b[1;32m      1\u001b[0m \u001b[0;31m##陣列建立二維\u001b[0m\u001b[0;34m\u001b[0m\u001b[0;34m\u001b[0m\u001b[0m\n\u001b[0;32m----> 2\u001b[0;31m \u001b[0ma\u001b[0m \u001b[0;34m=\u001b[0m \u001b[0mnp\u001b[0m\u001b[0;34m.\u001b[0m\u001b[0marray\u001b[0m\u001b[0;34m(\u001b[0m\u001b[0;34m[\u001b[0m\u001b[0;34m[\u001b[0m\u001b[0;36m1\u001b[0m\u001b[0;34m,\u001b[0m\u001b[0;36m2\u001b[0m\u001b[0;34m,\u001b[0m\u001b[0;36m3\u001b[0m\u001b[0;34m]\u001b[0m\u001b[0;34m,\u001b[0m\u001b[0;34m[\u001b[0m\u001b[0;36m4\u001b[0m\u001b[0;34m,\u001b[0m\u001b[0;36m5\u001b[0m\u001b[0;34m,\u001b[0m\u001b[0;36m6\u001b[0m\u001b[0;34m]\u001b[0m\u001b[0;34m]\u001b[0m\u001b[0;34m)\u001b[0m\u001b[0;34m\u001b[0m\u001b[0;34m\u001b[0m\u001b[0m\n\u001b[0m\u001b[1;32m      3\u001b[0m \u001b[0mprint\u001b[0m\u001b[0;34m(\u001b[0m\u001b[0ma\u001b[0m\u001b[0;34m[\u001b[0m\u001b[0;36m0\u001b[0m\u001b[0;34m,\u001b[0m \u001b[0;36m0\u001b[0m\u001b[0;34m]\u001b[0m\u001b[0;34m,\u001b[0m \u001b[0ma\u001b[0m\u001b[0;34m[\u001b[0m\u001b[0;36m0\u001b[0m\u001b[0;34m,\u001b[0m \u001b[0;36m1\u001b[0m\u001b[0;34m]\u001b[0m\u001b[0;34m,\u001b[0m \u001b[0ma\u001b[0m\u001b[0;34m[\u001b[0m\u001b[0;36m0\u001b[0m\u001b[0;34m,\u001b[0m \u001b[0;36m2\u001b[0m\u001b[0;34m]\u001b[0m\u001b[0;34m)\u001b[0m\u001b[0;34m\u001b[0m\u001b[0;34m\u001b[0m\u001b[0m\n\u001b[1;32m      4\u001b[0m \u001b[0mprint\u001b[0m\u001b[0;34m(\u001b[0m\u001b[0ma\u001b[0m\u001b[0;34m[\u001b[0m\u001b[0;36m1\u001b[0m\u001b[0;34m,\u001b[0m \u001b[0;36m0\u001b[0m\u001b[0;34m]\u001b[0m\u001b[0;34m,\u001b[0m \u001b[0ma\u001b[0m\u001b[0;34m[\u001b[0m\u001b[0;36m1\u001b[0m\u001b[0;34m,\u001b[0m \u001b[0;36m1\u001b[0m\u001b[0;34m]\u001b[0m\u001b[0;34m,\u001b[0m \u001b[0ma\u001b[0m\u001b[0;34m[\u001b[0m\u001b[0;36m1\u001b[0m\u001b[0;34m,\u001b[0m \u001b[0;36m2\u001b[0m\u001b[0;34m]\u001b[0m\u001b[0;34m)\u001b[0m\u001b[0;34m\u001b[0m\u001b[0;34m\u001b[0m\u001b[0m\n\u001b[1;32m      5\u001b[0m \u001b[0ma\u001b[0m\u001b[0;34m[\u001b[0m\u001b[0;36m0\u001b[0m\u001b[0;34m,\u001b[0m \u001b[0;36m0\u001b[0m\u001b[0;34m]\u001b[0m \u001b[0;34m=\u001b[0m \u001b[0;36m6\u001b[0m\u001b[0;34m\u001b[0m\u001b[0;34m\u001b[0m\u001b[0m\n",
      "\u001b[0;31mNameError\u001b[0m: name 'np' is not defined"
     ]
    }
   ],
   "metadata": {}
  },
  {
   "cell_type": "code",
   "execution_count": null,
   "source": [
    "# range() 函數建立陣列\n",
    "a = np.arange(5)\n",
    "print(a)\n",
    "b = np.arange(1, 6, 2)\n",
    "print(b) \n",
    "\n",
    "c = np.zeros(2) \n",
    "print(c)  \n",
    "d = np.zeros((2,2)) \n",
    "print(d)           \n",
    "\n",
    "e = np.ones(2) \n",
    "print(e)   \n",
    "f = np.ones((2,2)) \n",
    "print(f)         \n",
    "\n",
    "g = np.full(2, 7)\n",
    "print(g)      \n",
    "h = np.full((2,2), 7)\n",
    "print(h)  "
   ],
   "outputs": [],
   "metadata": {}
  },
  {
   "cell_type": "code",
   "execution_count": null,
   "source": [
    "a = np.arange(10)\n",
    "b = np.linspace(start = 1, stop =10, num = 10)\n",
    "print(a)\n",
    "print(b)"
   ],
   "outputs": [
    {
     "output_type": "stream",
     "name": "stdout",
     "text": [
      "[0 1 2 3 4 5 6 7 8 9]\n",
      "[ 1.  2.  3.  4.  5.  6.  7.  8.  9. 10.]\n"
     ]
    }
   ],
   "metadata": {}
  },
  {
   "cell_type": "code",
   "execution_count": null,
   "source": [
    "#  函數建立陣列\n",
    "a = np.array([[1,2,3],[4,5,6]])\n",
    "b = np.zeros_like(a)\n",
    "print(b)\n",
    "\n",
    "c = np.ones_like(a)\n",
    "print(c)\n",
    "\n",
    "d = np.eye(3)  \n",
    "print(d)\n",
    "e = np.eye(3, k=1)\n",
    "print(e)\n",
    "    \n",
    "f = np.random.rand(3)\n",
    "print(f)\n",
    "g = np.random.rand(3,3)\n",
    "print(g)   "
   ],
   "outputs": [],
   "metadata": {}
  },
  {
   "cell_type": "code",
   "execution_count": null,
   "source": [
    "# reshape 陣列維度轉換\n",
    "a = np.arange(16)\n",
    "print(a)\n",
    "b = a.reshape((4, 4))\n",
    "print(b)\n",
    "\n",
    "c = np.array(range(10), float)\n",
    "print(c)\n",
    "d = c.reshape((5, 2))\n",
    "print(d)\n",
    "\n",
    "#只管第二軸轉換成 5， 第一軸由電腦自己計算就用-1代表。\n",
    "e= c.reshape((-1,5))\n",
    "print(e)\n"
   ],
   "outputs": [
    {
     "output_type": "stream",
     "name": "stdout",
     "text": [
      "[ 0  1  2  3  4  5  6  7  8  9 10 11 12 13 14 15]\n",
      "[[ 0  1  2  3]\n",
      " [ 4  5  6  7]\n",
      " [ 8  9 10 11]\n",
      " [12 13 14 15]]\n",
      "[0. 1. 2. 3. 4. 5. 6. 7. 8. 9.]\n",
      "[[0. 1.]\n",
      " [2. 3.]\n",
      " [4. 5.]\n",
      " [6. 7.]\n",
      " [8. 9.]]\n",
      "[[0. 1. 2. 3. 4.]\n",
      " [5. 6. 7. 8. 9.]]\n"
     ]
    }
   ],
   "metadata": {}
  },
  {
   "cell_type": "code",
   "execution_count": null,
   "source": [
    "# 高維度\n",
    "a = np.arange(24)\n",
    "print(\"a : \",a)\n",
    "b = a.reshape(2,12)\n",
    "print(\"b : \",b)\n",
    "c = a.reshape(2,3,4)\n",
    "print(\"c : \",c)"
   ],
   "outputs": [
    {
     "output_type": "stream",
     "name": "stdout",
     "text": [
      "a :  [ 0  1  2  3  4  5  6  7  8  9 10 11 12 13 14 15 16 17 18 19 20 21 22 23]\n",
      "b :  [[ 0  1  2  3  4  5  6  7  8  9 10 11]\n",
      " [12 13 14 15 16 17 18 19 20 21 22 23]]\n",
      "c :  [[[ 0  1  2  3]\n",
      "  [ 4  5  6  7]\n",
      "  [ 8  9 10 11]]\n",
      "\n",
      " [[12 13 14 15]\n",
      "  [16 17 18 19]\n",
      "  [20 21 22 23]]]\n"
     ]
    }
   ],
   "metadata": {}
  },
  {
   "cell_type": "code",
   "execution_count": null,
   "source": [
    "#二維陣列屬性\n",
    "a = np.array([[11, 12, 13, 14, 15],\n",
    "              [16, 17, 18, 19, 20],\n",
    "              [21, 22, 23, 24, 25],\n",
    "              [26, 27, 28, 29, 30],\n",
    "              [31, 32, 33, 34, 35]])\n",
    " \n",
    "print(type(a))\n",
    "print(a.dtype)\n",
    "print(a.size)\n",
    "print(a.shape)\n",
    "print(a.itemsize)\n",
    "print(a.ndim)\n",
    "print(a.nbytes)  "
   ],
   "outputs": [],
   "metadata": {}
  },
  {
   "cell_type": "code",
   "execution_count": null,
   "source": [
    "#一維陣列探索\n",
    "a = np.array([1, 2, 3, 4, 5])\n",
    "for ele in a:\n",
    "    print(ele)"
   ],
   "outputs": [],
   "metadata": {}
  },
  {
   "cell_type": "code",
   "execution_count": null,
   "source": [
    "#二維探索探索\n",
    "a = np.array([[1, 2], [3, 4], [5, 6]])\n",
    "for ele in a:\n",
    "    print(ele)\n",
    "\n",
    "for ele in a:\n",
    "    for item in ele:\n",
    "        print(str(item) + \" \", end=\"\")"
   ],
   "outputs": [],
   "metadata": {}
  },
  {
   "cell_type": "code",
   "execution_count": null,
   "source": [
    "#陣列輸出存檔\n",
    "a = np.arange(10)\n",
    "outputfile = \"Example.npy\"\n",
    "with open(outputfile, 'wb') as fp:\n",
    "    np.save(fp, a)\n",
    "\n",
    "#輸出 CSV格式\n",
    "a = np.array([[1,2,3],[4,5,6]])\n",
    "outputfile = \"Example.out\"\n",
    "np.savetxt(outputfile, a, delimiter=',')"
   ],
   "outputs": [],
   "metadata": {}
  },
  {
   "cell_type": "code",
   "execution_count": null,
   "source": [
    "#陣列載入\n",
    "outputfile = \"Example.npy\"\n",
    "with open(outputfile, 'rb') as fp:\n",
    "    a = np.load(fp)\n",
    "print(a)\n",
    "\n",
    "#載入 CSV格式\n",
    "outputfile = \"Example.out\"\n",
    "a = np.loadtxt(outputfile, delimiter=',')\n",
    "print(a)"
   ],
   "outputs": [],
   "metadata": {}
  },
  {
   "cell_type": "code",
   "execution_count": null,
   "source": [
    "#陣列與純量運算\n",
    "a = np.array([1, 2, 3]) \n",
    "print(\"a=\" + str(a))\n",
    "s = 5 \n",
    "print(\"s=\" + str(s))\n",
    "b = a + s       \n",
    "print(\"a+s=\" + str(b))    \n",
    "b = a - s       \n",
    "print(\"a-s=\" + str(b))   \n",
    "b = a * s       \n",
    "print(\"a*s=\" + str(b))  \n",
    "b = a / s       \n",
    "print(\"a/s=\" + str(b)) \n",
    "\n",
    "\n",
    "a = np.array([1, 2, 3]) \n",
    "print(\"a=\" + str(a))\n",
    "s = 5 \n",
    "print(\"s=\" + str(s))\n",
    "b = np.add(a, s)       \n",
    "print(\"np.add(a,s)=\" + str(b))    \n",
    "b = np.subtract(a, s)       \n",
    "print(\"np.subtract(a,s)=\" + str(b))   \n",
    "b = np.multiply(a, s)       \n",
    "print(\"np.multiply(a,s)=\" + str(b))  \n",
    "b = np.divide(a, s)       \n",
    "print(\"np.divide(a,s)=\" + str(b))  "
   ],
   "outputs": [],
   "metadata": {}
  },
  {
   "cell_type": "code",
   "execution_count": null,
   "source": [
    "#陣列與陣列運算\n",
    "a = np.array([1, 2, 3]) \n",
    "print(\"a=\" + str(a))\n",
    "s = np.array([4, 5, 6])  \n",
    "print(\"s=\" + str(s))\n",
    "b = a + s       \n",
    "print(\"a+s=\" + str(b))    \n",
    "b = a - s       \n",
    "print(\"a-s=\" + str(b))   \n",
    "b = a * s       \n",
    "print(\"a*s=\" + str(b))  \n",
    "b = a / s       \n",
    "print(\"a/s=\" + str(b))  \n",
    "\n",
    "\n",
    "a = np.array([1, 2, 3]) \n",
    "print(\"c=\" + str(a))\n",
    "s = np.array([4, 5, 6])  \n",
    "print(\"s=\" + str(s))\n",
    "b = np.add(a, s)       \n",
    "print(\"np.add(a,s)=\" + str(b))    \n",
    "b = np.subtract(a, s)       \n",
    "print(\"np.subtract(a,s)=\" + str(b))   \n",
    "b = np.multiply(a, s)       \n",
    "print(\"np.multiply(a,s)=\" + str(b))  \n",
    "b = np.divide(a, s)       \n",
    "print(\"np.divide(a,s)=\" + str(b))  "
   ],
   "outputs": [],
   "metadata": {}
  },
  {
   "cell_type": "code",
   "execution_count": null,
   "source": [
    "#陣列點積運算\n",
    "a = np.array([1, 2, 3]) \n",
    "print(\"a=\" + str(a))\n",
    "s = np.array([4, 5, 6])  \n",
    "print(\"s=\" + str(s))\n",
    "b = a.dot(s)       \n",
    "print(\"a.dot(s)=\" + str(b))  "
   ],
   "outputs": [],
   "metadata": {}
  },
  {
   "cell_type": "code",
   "execution_count": null,
   "source": [
    "#陣列切割(slice)-1\n",
    "a = np.array([1, 2, 3, 4, 5, 6, 7, 8, 9])\n",
    "print(\"a=\" + str(a))\n",
    "\n",
    "b = a[1:3]     # 索引 1,2\n",
    "print(\"a[1:3]=\" + str(b))\n",
    "b = a[:4]      # 索引 0,1,2,3\n",
    "print(\"a[:4]=\" + str(b))\n",
    "b = a[3:]      # 索引 3,4,5,6,7,8\n",
    "print(\"a[3:]=\" + str(b))\n",
    "b = a[2:9:3]   # 索引 2,5,8\n",
    "print(\"a[2:9:3]=\" + str(b))\n",
    "b = a[::2]     # 索引 0,2,4,6,8\n",
    "print(\"a[::2]=\" + str(b))\n",
    "b = a[::-1]    # 索引 8,7,6,5,4,3,2,1,0\n",
    "print(\"a[::-1]=\" + str(b))\n",
    "b = a[2:-2]    # 索引 8,7,6,5,4,3,2,1,0\n",
    "print(\"a[2:-2]=\" + str(b))\n"
   ],
   "outputs": [],
   "metadata": {}
  },
  {
   "cell_type": "code",
   "execution_count": null,
   "source": [
    "#陣列切割(slice)-2\n",
    "a = np.array([1, 2, 3, 4, 5, 6, 7, 8, 9])\n",
    "print(\"a=\" + str(a))\n",
    "\n",
    "print(a[0], a[2], a[-1])  # 索引 0,2,最後1個 \n",
    "b = a[[1, 3, 5, 7]]       # 索引 1,3,5,7\n",
    "print(\"a[[1,3,5,7]]=\" + str(b))\n",
    "b = a[range(6)]           # 索引 0,1,2,3,4,5\n",
    "print(\"a[range(6)]=\" + str(b))\n",
    "a[[2, 6]] = 10            # 同時更改多個索引值\n",
    "print(\"a[[2,6]]=10->\" + str(a))"
   ],
   "outputs": [],
   "metadata": {}
  },
  {
   "cell_type": "code",
   "execution_count": null,
   "source": [
    "#陣列切割(slice)-boolean\n",
    "a = np.array([14,8,10,11,6,3,18,13,12,9])\n",
    "print(\"a=\" + str(a))\n",
    "mask = (a % 3 == 0)        # 建立布林值陣列\n",
    "print(\"mask=\" + str(mask))\n",
    "b = a[mask]                # 使用布林值陣列取出值\n",
    "print(\"a[mask]=\" + str(b))\n",
    "a[a % 3 == 0] = -1         # 同時更改多個True索引\n",
    "print(\"a[a%3==0]=-1->\" + str(a))"
   ],
   "outputs": [],
   "metadata": {}
  },
  {
   "cell_type": "code",
   "execution_count": null,
   "source": [
    "#二維陣列運算-陣列x純量\n",
    "a = np.array([[1,2,3],[4,5,6]])\n",
    "print(\"a=\")\n",
    "print(a)\n",
    "s = 5 \n",
    "print(\"s=\" + str(s))\n",
    "b = a + s       \n",
    "print(\"a+s=\")\n",
    "print(b)    \n",
    "b = a - s       \n",
    "print(\"a-s=\")\n",
    "print(b)   \n",
    "b = a * s       \n",
    "print(\"a*s=\")\n",
    "print(b)  \n",
    "b = a / s       \n",
    "print(\"a/s=\")\n",
    "print(b)  \n",
    "\n",
    "a = np.array([[1,2,3],[4,5,6]])\n",
    "print(\"a=\")\n",
    "print(a)\n",
    "s = 5 \n",
    "print(\"s=\" + str(s))\n",
    "b = np.add(a, s)       \n",
    "print(\"np.add(a,s)=\")\n",
    "print(b)    \n",
    "b = np.subtract(a, s)       \n",
    "print(\"np.subtract(a,s)=\")\n",
    "print(b)   \n",
    "b = np.multiply(a, s)       \n",
    "print(\"np.multiply(a,s)=\")\n",
    "print(b)  \n",
    "b = np.divide(a, s)       \n",
    "print(\"np.divide(a,s)=\")\n",
    "print(b) \n"
   ],
   "outputs": [],
   "metadata": {}
  },
  {
   "cell_type": "code",
   "execution_count": null,
   "source": [
    "#二維陣列運算\n"
   ],
   "outputs": [],
   "metadata": {}
  },
  {
   "cell_type": "code",
   "execution_count": null,
   "source": [
    "#二維陣列運算-陣列x陣列\n",
    "a = np.array([[1,2],[3,4]])\n",
    "print(\"a=\")\n",
    "print(a)\n",
    "s = np.array([[5,6],[7,8]])\n",
    "print(\"s=\")\n",
    "print(s)\n",
    "b = a + s       \n",
    "print(\"a+s=\")\n",
    "print(b)    \n",
    "b = a - s       \n",
    "print(\"a-s=\")\n",
    "print(b)   \n",
    "b = a * s       \n",
    "print(\"a*s=\")\n",
    "print(b)  \n",
    "b = a / s       \n",
    "print(\"a/s=\")\n",
    "print(b)  \n",
    "\n",
    "a = np.array([[1,2],[3,4]])\n",
    "print(\"a=\")\n",
    "print(a)\n",
    "s = np.array([[5,6],[7,8]])\n",
    "print(\"s=\")\n",
    "print(s)\n",
    "b = np.add(a, s)       \n",
    "print(\"np.add(a,s)=\")\n",
    "print(b)    \n",
    "b = np.subtract(a, s)       \n",
    "print(\"np.subtract(a,s)=\")\n",
    "print(b)   \n",
    "b = np.multiply(a, s)       \n",
    "print(\"np.multiply(a,s)=\")\n",
    "print(b)  \n",
    "b = np.divide(a, s)       \n",
    "print(\"np.divide(a,s)=\")\n",
    "print(b)  "
   ],
   "outputs": [],
   "metadata": {}
  },
  {
   "cell_type": "code",
   "execution_count": null,
   "source": [
    "#二維陣列運算-點積\n",
    "a = np.array([[1,2],[3,4]])\n",
    "print(\"a=\")\n",
    "print(a)\n",
    "s = np.array([[5,6],[7,8]])\n",
    "print(\"s=\")\n",
    "print(s)\n",
    "b = a.dot(s)       \n",
    "print(\"a.dot(s)=\")\n",
    "print(b)    \n"
   ],
   "outputs": [],
   "metadata": {}
  },
  {
   "cell_type": "code",
   "execution_count": null,
   "source": [
    "#二維陣列切割\n",
    "a = np.arange(11,36)\n",
    "a = a.reshape(5,5)\n",
    "print(\"a=\")\n",
    "print(a)\n",
    "\n",
    "b = a[0, 1:4]     # 索引 [0,1~3]\n",
    "print(\"a[0,1:4]=\")\n",
    "print(b)\n",
    "b = a[1:4, 0]     # 索引 [1~3,0]\n",
    "print(\"a[1:4,0]=\")\n",
    "print(b)\n",
    "b = a[:2, 1:3]    # 索引 [0~1,1~2]\n",
    "print(\"a[:2,1:3]=\")\n",
    "print(b)\n",
    "b = a[:,1]        # 索引 [0~4,1]\n",
    "print(\"a[:,1]=\")\n",
    "print(b)\n",
    "b = a[::2, ::2]   # 索引 [0~2~4,0~2~4]\n",
    "print(\"a[::2,::2]=\")\n",
    "print(b)"
   ],
   "outputs": [],
   "metadata": {}
  },
  {
   "cell_type": "code",
   "execution_count": null,
   "source": [
    "#二維陣列切割\n",
    "a = np.array([[1,2,3],[4,5,6],[7,8,9],[10,11,12]])\n",
    "print(\"a=\")\n",
    "print(a)\n",
    "\n",
    "b = a[[0,1,2],[0,1,0]]   # 索引 [0,0][1,1][2,0]\n",
    "print(\"a[[0,1,2],[0,1,0]]=\")\n",
    "print(b)\n",
    "b = np.array([a[0,0],a[1,1],a[2,0]])  # 索引 [0,0][1,1][2,0]\n",
    "print(\"np.array([a[0,0],a[1,1],a[2,0]])\")\n",
    "print(b)\n",
    "\n",
    "idx = np.array([0, 2, 0, 1])\n",
    "print(\"idx=\" + str(idx))\n",
    "b = a[np.arange(4), idx]     # 索引 [0,0][1,2][2,0][3,1]\n",
    "print(\"a[np.arange(4),idx]=\")\n",
    "print(b)\n",
    "a[np.arange(4), idx] += 10\n",
    "print(\"a[np.arange(4), idx] += 10->\")\n",
    "print(a)"
   ],
   "outputs": [],
   "metadata": {}
  },
  {
   "cell_type": "code",
   "execution_count": null,
   "source": [
    "#二維陣列切割 boolean\n",
    "a = np.array([[1,2],[3,4],[5,6]])\n",
    "print(\"a=\")\n",
    "print(a)\n",
    "\n",
    "mask = (a > 2)\n",
    "print(\"mask=\")\n",
    "print(mask)\n",
    "b = a[mask]           # 使用布林值陣列取出值\n",
    "print(\"a[mask]=\" + str(b))\n",
    "a[a > 2] = -1         # 同時更改多個True索引\n",
    "print(\"a[a>2]=-1->\")\n",
    "print(a)"
   ],
   "outputs": [],
   "metadata": {}
  },
  {
   "cell_type": "code",
   "execution_count": null,
   "source": [
    "#shape\n",
    "a = np.array([[1,2,3],[4,5,6],[7,8,9],[10,11,12]])\n",
    "print(\"a=\")\n",
    "print(a)\n",
    "print(\"a 形狀: \" + str(a.shape))\n",
    "b = np.array([1,0,1])\n",
    "print(\"b=\" + str(b))\n",
    "print(\"b 形狀: \" + str(b.shape))\n",
    "\n",
    "c = a + b\n",
    "print(c)"
   ],
   "outputs": [],
   "metadata": {}
  },
  {
   "cell_type": "code",
   "execution_count": null,
   "source": [
    "#陣列函數\n",
    "a = np.arange(10)\n",
    "print(a.max())\n",
    "print(a.min())\n",
    "print(a.sum())\n",
    "print(a.mean())"
   ],
   "outputs": [
    {
     "output_type": "stream",
     "name": "stdout",
     "text": [
      "9\n",
      "0\n",
      "45\n",
      "4.5\n"
     ]
    }
   ],
   "metadata": {}
  },
  {
   "cell_type": "code",
   "execution_count": null,
   "source": [
    "#陣列函數\n",
    "a = np.arange(6)\n",
    "a = a.reshape(2,3)\n",
    "print(\"a:\")\n",
    "print(a)\n",
    "print(\"----- axis =0  ----- \")\n",
    "print(\"a.max : \", a.max(axis =0))\n",
    "print(\"a.min :\", a.min(axis =0))\n",
    "print(\"a.sum :\",a.sum(axis =0))\n",
    "print(\"a.mean \", a.mean(axis =0))\n",
    "print()\n",
    "print(\"----- axis =1  ----- \")\n",
    "print(\"a.max : \", a.max(axis =1))\n",
    "print(\"a.min :\", a.min(axis =1))\n",
    "print(\"a.sum :\",a.sum(axis =1))\n",
    "print(\"a.mean \", a.mean(axis =1))"
   ],
   "outputs": [
    {
     "output_type": "stream",
     "name": "stdout",
     "text": [
      "a:\n",
      "[[0 1 2]\n",
      " [3 4 5]]\n",
      "----- axis =0  ----- \n",
      "a.max :  [3 4 5]\n",
      "a.min : [0 1 2]\n",
      "a.sum : [3 5 7]\n",
      "a.mean  [1.5 2.5 3.5]\n",
      "\n",
      "----- axis =1  ----- \n",
      "a.max :  [2 5]\n",
      "a.min : [0 3]\n",
      "a.sum : [ 3 12]\n",
      "a.mean  [1. 4.]\n"
     ]
    }
   ],
   "metadata": {}
  },
  {
   "cell_type": "code",
   "execution_count": null,
   "source": [
    "# 增加維度 expand_dims\n",
    "a =np.arange(6)\n",
    "print(a)\n",
    "b = np.expand_dims(a, axis =0)\n",
    "print(\"b shape:\",b. shape)\n",
    "print(b)\n",
    "c = np.expand_dims(a, axis =1)\n",
    "print(\"c shape:\",c.shape)\n",
    "print(c)\n"
   ],
   "outputs": [
    {
     "output_type": "stream",
     "name": "stdout",
     "text": [
      "[0 1 2 3 4 5]\n",
      "b shape: (1, 6)\n",
      "[[0 1 2 3 4 5]]\n",
      "c shape: (6, 1)\n",
      "[[0]\n",
      " [1]\n",
      " [2]\n",
      " [3]\n",
      " [4]\n",
      " [5]]\n"
     ]
    }
   ],
   "metadata": {}
  },
  {
   "cell_type": "code",
   "execution_count": null,
   "source": [
    "# 減少(壓縮)維度 將維度維 一 的 壓縮\n",
    "d = np.squeeze(b)\n",
    "print(\"d shape:\",d.shape)\n",
    "print(d)\n",
    "\n",
    "e = np.squeeze(c)\n",
    "print(\"e shape:\",e.shape)\n",
    "print(e)\n"
   ],
   "outputs": [
    {
     "output_type": "stream",
     "name": "stdout",
     "text": [
      "d shape: (6,)\n",
      "[0 1 2 3 4 5]\n",
      "e shape: (6,)\n",
      "[0 1 2 3 4 5]\n"
     ]
    }
   ],
   "metadata": {}
  },
  {
   "cell_type": "code",
   "execution_count": null,
   "source": [
    "#陣列函數 ravel()\n",
    "a = np.array([[1,2,3],[4,5,6]])\n",
    "print(\"a=\")\n",
    "print(a)\n",
    "\n",
    "b = a.ravel()\n",
    "print(\"a.ravel()=\" + str(b))\n",
    "b = np.ravel(a)\n",
    "print(\"np.ravel(a)=\" + str(b))"
   ],
   "outputs": [],
   "metadata": {}
  },
  {
   "cell_type": "code",
   "execution_count": null,
   "source": [
    "#陣列函數 transpose\n",
    "a = np.array([1,2,3,4,5,6])\n",
    "print(\"a=\" + str(a))\n",
    "\n",
    "b = np.reshape(a,(3,2))\n",
    "print(\"b=np.reshape(a,(3,2))->\")\n",
    "print(b)\n",
    "c = b.T\n",
    "print(\"c=b.T->\")\n",
    "print(c)\n",
    "c = b.transpose()\n",
    "print(\"c=b.transpose()->\")\n",
    "print(c)\n",
    "c = np.transpose(b)\n",
    "print(\"c=np.transpose(b)->\")\n",
    "print(c)"
   ],
   "outputs": [],
   "metadata": {}
  },
  {
   "cell_type": "code",
   "execution_count": null,
   "source": [
    "#陣列函數 newaxis\n",
    "a = np.array([1,2,3])\n",
    "print(\"a=\" + str(a))\n",
    "\n",
    "b = a[:, np.newaxis]\n",
    "print(\"b=a[:,np.newaxis]->\")\n",
    "print(b)\n",
    "print(b.shape)\n",
    "b = a[np.newaxis, :]\n",
    "print(\"b=a[np.newaxis,:]->\")\n",
    "print(b)\n",
    "print(b.shape)"
   ],
   "outputs": [],
   "metadata": {}
  },
  {
   "cell_type": "code",
   "execution_count": null,
   "source": [
    "# 陣列搜尋與判斷\n",
    "\n",
    "condition_b = a > 5   # 產生 boolean array\n",
    "print(a)\n",
    "print(condition_b) \n",
    "print(a[condition_b]) # 過濾 a 陣列\n",
    "a[condition_b] = 0\n",
    "print(a)\n"
   ],
   "outputs": [
    {
     "output_type": "stream",
     "name": "stdout",
     "text": [
      "[ 2  4  6  8 10]\n",
      "[False False  True  True  True]\n",
      "[ 6  8 10]\n",
      "[2 4 0 0 0]\n",
      "4 1 4\n"
     ]
    }
   ],
   "metadata": {}
  },
  {
   "cell_type": "code",
   "execution_count": null,
   "source": [
    "# 陣列搜尋與判斷 argmax\n",
    "a =np.array([2,4,6,8,10])\n",
    "max = a.max()  #最大值\n",
    "index = a.argmax()  # 最大值索引\n",
    "print(max, index, a[index])"
   ],
   "outputs": [],
   "metadata": {}
  },
  {
   "cell_type": "code",
   "execution_count": null,
   "source": [
    "# sort\n",
    "a = np.array([5,4,1,2,3])\n",
    "b = np.array([[6,5,4],[1,2,3]])\n",
    "print(a)\n",
    "print(b)\n",
    "print(np.sort(a))\n",
    "print(\"-------sort by axis = 0  --------------\")\n",
    "print(np.sort(b, axis =0))\n",
    "print(\"-------sort by axis = 1  --------------\")\n",
    "print(np.sort(b, axis =1))"
   ],
   "outputs": [
    {
     "output_type": "stream",
     "name": "stdout",
     "text": [
      "[5 4 1 2 3]\n",
      "[[6 5 4]\n",
      " [1 2 3]]\n",
      "[1 2 3 4 5]\n",
      "-------sort by axis = 0  --------------\n",
      "[[1 2 3]\n",
      " [6 5 4]]\n",
      "-------sort by axis = 1  --------------\n",
      "[[4 5 6]\n",
      " [1 2 3]]\n"
     ]
    }
   ],
   "metadata": {}
  },
  {
   "cell_type": "code",
   "execution_count": null,
   "source": [
    "# 亂數產生陣列\n",
    "np.random.seed(200)\n",
    "a = np.random.randint(low = 1, high = 100, size =10)\n",
    "print(a)\n"
   ],
   "outputs": [
    {
     "output_type": "stream",
     "name": "stdout",
     "text": [
      "[27 17 69 43 56 77 80 90 15 92]\n",
      "[-0.16518249 -0.98739841  0.86550648 ...  0.47214595  0.0821693\n",
      "  0.6459644 ]\n",
      "0.009742033781212857\n"
     ]
    }
   ],
   "metadata": {}
  },
  {
   "cell_type": "code",
   "execution_count": null,
   "source": [
    "# 亂數產生陣列\n",
    "np.random.seed(100)\n",
    "a = np.random.randn(1)\n",
    "print(a)\n",
    "np.random.seed(100)\n",
    "a = np.random.randn(1)\n",
    "print(a)\n",
    "\n",
    "np.random.seed(10)\n",
    "a = np.random.randn(1)\n",
    "print(a)\n",
    "\n"
   ],
   "outputs": [
    {
     "output_type": "stream",
     "name": "stdout",
     "text": [
      "[-1.74976547]\n",
      "[-1.74976547]\n",
      "[1.3315865]\n"
     ]
    }
   ],
   "metadata": {}
  },
  {
   "cell_type": "code",
   "execution_count": null,
   "source": [
    "# 亂數產生陣列\n",
    "b = np.random.randn(10000)\n",
    "print(b)\n",
    "print(b.mean())  # 平均逼近 0"
   ],
   "outputs": [
    {
     "output_type": "stream",
     "name": "stdout",
     "text": [
      "[ 0.71527897 -1.54540029 -0.00838385 ...  1.25073922  1.1629442\n",
      " -2.18695198]\n",
      "0.00475020215321972\n"
     ]
    }
   ],
   "metadata": {}
  },
  {
   "cell_type": "code",
   "execution_count": null,
   "source": [
    "#陣列函數 copy\n",
    "a = np.array([1,2,3])\n",
    "print(\"a=\" + str(a))\n",
    "\n",
    "b = a.copy()\n",
    "print(\"b=a.copy()->\" + str(b))\n",
    "b.fill(4)\n",
    "print(\"b.fill(0)=\" + str(b))\n",
    "c = np.concatenate((a,b))\n",
    "print(\"c=np.concatenate((a,b))->\" + str(c))"
   ],
   "outputs": [],
   "metadata": {}
  },
  {
   "cell_type": "code",
   "execution_count": null,
   "source": [
    "#陣列函數concatenate\n",
    "a = np.array([[1,2],[3,4]])\n",
    "b = np.array([[5,6],[7,8]])\n",
    "\n",
    "c = np.concatenate((a,b))\n",
    "print(\"c=np.concatenate((a,b))->\")\n",
    "print(c)\n",
    "c = np.concatenate((a,b), axis=0)\n",
    "print(\"c=np.concatenate((a,b), axis=0)->\")\n",
    "print(c)\n",
    "c = np.concatenate((a,b), axis=1)\n",
    "print(\"c=np.concatenate((a,b), axis=1)->\")\n",
    "print(c)"
   ],
   "outputs": [],
   "metadata": {}
  },
  {
   "cell_type": "code",
   "execution_count": null,
   "source": [
    "#陣列 random\n",
    "np.random.seed(293423)\n",
    "\n",
    "v1 = np.random.random()\n",
    "v2 = np.random.random()\n",
    "print(v1, v2)\n",
    "v3 = np.random.randint(5, 10)\n",
    "v4 = np.random.randint(1, 101)\n",
    "print(v3, v4)\n"
   ],
   "outputs": [],
   "metadata": {}
  },
  {
   "cell_type": "code",
   "execution_count": null,
   "source": [
    "#陣列 random()\n",
    "a = np.random.rand(5)\n",
    "print(\"np.random.rand(5)=\")\n",
    "print(a)\n",
    "b = np.random.rand(3, 2)  \n",
    "print(\"np.random.rand(3,2)=\")\n",
    "print(b)\n",
    "c = np.random.randint(5, 10, size=5)\n",
    "print(\"np.random.randint(5,10,size=5)\")\n",
    "print(c)\n",
    "d = np.random.randint(5, 10, size=(2,3))\n",
    "print(\"np.random.randint(5,10,size=(2,3))\")\n",
    "print(d)"
   ],
   "outputs": [],
   "metadata": {}
  },
  {
   "cell_type": "code",
   "execution_count": null,
   "source": [
    "#陣列 三角函數\n",
    "a = np.array([30,45,60]) \n",
    "\n",
    "print(np.sin(a*np.pi/180)) \n",
    "print(np.cos(a*np.pi/180)) \n",
    "print(np.tan(a*np.pi/180)) "
   ],
   "outputs": [],
   "metadata": {}
  },
  {
   "cell_type": "code",
   "execution_count": null,
   "source": [
    "#四捨五入\n",
    "a = np.array([1.0,5.55, 123, 0.567, 25.532]) \n",
    "print(\"a=\" + str(a))\n",
    "\n",
    "print(np.around(a))\n",
    "print(np.around(a, decimals = 1))\n",
    "print(np.around(a, decimals = -1))\n",
    "\n",
    "a = np.array([-1.7, 1.5, -0.2, 0.6, 10]) \n",
    "print(\"a=\" + str(a))\n",
    "\n",
    "b = np.floor(a)\n",
    "print(\"floor()=\" + str(b))\n",
    "b = np.ceil(a)\n",
    "print(\"ceil()=\" + str(b))"
   ],
   "outputs": [],
   "metadata": {}
  },
  {
   "cell_type": "code",
   "execution_count": null,
   "source": [],
   "outputs": [],
   "metadata": {}
  },
  {
   "cell_type": "code",
   "execution_count": null,
   "source": [],
   "outputs": [],
   "metadata": {}
  }
 ],
 "metadata": {
  "kernelspec": {
   "name": "python3",
   "display_name": "Python 3.9.7 64-bit"
  },
  "language_info": {
   "codemirror_mode": {
    "name": "ipython",
    "version": 3
   },
   "file_extension": ".py",
   "mimetype": "text/x-python",
   "name": "python",
   "nbconvert_exporter": "python",
   "pygments_lexer": "ipython3",
   "version": "3.9.7"
  },
  "interpreter": {
   "hash": "aee8b7b246df8f9039afb4144a1f6fd8d2ca17a180786b69acc140d282b71a49"
  }
 },
 "nbformat": 4,
 "nbformat_minor": 2
}