{
 "cells": [
  {
   "cell_type": "markdown",
   "metadata": {},
   "source": [
    "Numpy 陣列範例"
   ]
  },
  {
   "cell_type": "code",
   "execution_count": 1,
   "metadata": {},
   "outputs": [
    {
     "name": "stdout",
     "output_type": "stream",
     "text": [
      "<class 'numpy.ndarray'>\n",
      "<class 'numpy.ndarray'>\n",
      "1 2 3 4 5\n",
      "[5 2 3 4 5]\n",
      "[5 2 3 4 0]\n"
     ]
    }
   ],
   "source": [
    "#陣列建立一維\n",
    "import numpy as np\n",
    "\n",
    "a = np.array([1, 2, 3, 4, 5]) \n",
    "b = np.array((1, 2, 3, 4, 5)) \n",
    "print(type(a))  \n",
    "print(type(b))        \n",
    "print(a[0], a[1], a[2], a[3], a[4])\n",
    "b[0] = 5    \n",
    "print(b) \n",
    "b[4] = 0\n",
    "print(b)    "
   ]
  },
  {
   "cell_type": "code",
   "execution_count": 2,
   "metadata": {},
   "outputs": [
    {
     "name": "stdout",
     "output_type": "stream",
     "text": [
      "1 2 3\n",
      "4 5 6\n",
      "[[6 2 3]\n",
      " [4 5 1]]\n",
      "[1 2 3 4 5]\n",
      "[1. 2. 3. 4. 5.]\n",
      "<class 'numpy.ndarray'>\n",
      "<class 'numpy.ndarray'>\n"
     ]
    }
   ],
   "source": [
    "##陣列建立二維\n",
    "a = np.array([[1,2,3],[4,5,6]])\n",
    "print(a[0, 0], a[0, 1], a[0, 2])\n",
    "print(a[1, 0], a[1, 1], a[1, 2])\n",
    "a[0, 0] = 6\n",
    "a[1, 2] = 1\n",
    "print(a)\n",
    "\n",
    "a = np.array([1, 2, 3, 4, 5], int) \n",
    "b = np.array((1, 2, 3, 4, 5), dtype=float) \n",
    "print(a) \n",
    "print(b)    \n",
    "print(type(a))\n",
    "print(type(b))"
   ]
  },
  {
   "cell_type": "code",
   "execution_count": 3,
   "metadata": {},
   "outputs": [
    {
     "name": "stdout",
     "output_type": "stream",
     "text": [
      "[0 1 2 3 4]\n",
      "[1 3 5]\n",
      "[0. 0.]\n",
      "[[0. 0.]\n",
      " [0. 0.]]\n",
      "[1. 1.]\n",
      "[[1. 1.]\n",
      " [1. 1.]]\n",
      "[7 7]\n",
      "[[7 7]\n",
      " [7 7]]\n"
     ]
    }
   ],
   "source": [
    "# range() 函數建立陣列\n",
    "a = np.arange(5)\n",
    "print(a)\n",
    "b = np.arange(1, 6, 2)\n",
    "print(b) \n",
    "\n",
    "c = np.zeros(2) \n",
    "print(c)  \n",
    "d = np.zeros((2,2)) \n",
    "print(d)           \n",
    "\n",
    "e = np.ones(2) \n",
    "print(e)   \n",
    "f = np.ones((2,2)) \n",
    "print(f)         \n",
    "\n",
    "g = np.full(2, 7)\n",
    "print(g)      \n",
    "h = np.full((2,2), 7)\n",
    "print(h)  "
   ]
  },
  {
   "cell_type": "code",
   "execution_count": 4,
   "metadata": {},
   "outputs": [
    {
     "name": "stdout",
     "output_type": "stream",
     "text": [
      "[0 1 2 3 4 5 6 7 8 9]\n",
      "[ 1.  2.  3.  4.  5.  6.  7.  8.  9. 10.]\n"
     ]
    }
   ],
   "source": [
    "a = np.arange(10)\n",
    "b = np.linspace(start = 1, stop =10, num = 10)\n",
    "print(a)\n",
    "print(b)"
   ]
  },
  {
   "cell_type": "code",
   "execution_count": 5,
   "metadata": {},
   "outputs": [
    {
     "name": "stdout",
     "output_type": "stream",
     "text": [
      "[[0 0 0]\n",
      " [0 0 0]]\n",
      "[[1 1 1]\n",
      " [1 1 1]]\n",
      "[[1. 0. 0.]\n",
      " [0. 1. 0.]\n",
      " [0. 0. 1.]]\n",
      "[[0. 1. 0.]\n",
      " [0. 0. 1.]\n",
      " [0. 0. 0.]]\n",
      "[0.48363728 0.93128878 0.67653254]\n",
      "[[0.0011595  0.28723746 0.69708658]\n",
      " [0.54706331 0.37551539 0.35948716]\n",
      " [0.58426432 0.38465923 0.39104401]]\n"
     ]
    }
   ],
   "source": [
    "#  函數建立陣列\n",
    "a = np.array([[1,2,3],[4,5,6]])\n",
    "b = np.zeros_like(a)\n",
    "print(b)\n",
    "\n",
    "c = np.ones_like(a)\n",
    "print(c)\n",
    "\n",
    "d = np.eye(3)  \n",
    "print(d)\n",
    "e = np.eye(3, k=1)\n",
    "print(e)\n",
    "    \n",
    "f = np.random.rand(3)\n",
    "print(f)\n",
    "g = np.random.rand(3,3)\n",
    "print(g)   "
   ]
  },
  {
   "cell_type": "code",
   "execution_count": 6,
   "metadata": {},
   "outputs": [
    {
     "name": "stdout",
     "output_type": "stream",
     "text": [
      "[ 0  1  2  3  4  5  6  7  8  9 10 11 12 13 14 15]\n",
      "[[ 0  1  2  3]\n",
      " [ 4  5  6  7]\n",
      " [ 8  9 10 11]\n",
      " [12 13 14 15]]\n",
      "[0. 1. 2. 3. 4. 5. 6. 7. 8. 9.]\n",
      "[[0. 1.]\n",
      " [2. 3.]\n",
      " [4. 5.]\n",
      " [6. 7.]\n",
      " [8. 9.]]\n",
      "[[0. 1. 2. 3. 4.]\n",
      " [5. 6. 7. 8. 9.]]\n"
     ]
    }
   ],
   "source": [
    "# reshape 陣列維度轉換\n",
    "a = np.arange(16)\n",
    "print(a)\n",
    "b = a.reshape((4, 4))\n",
    "print(b)\n",
    "\n",
    "c = np.array(range(10), float)\n",
    "print(c)\n",
    "d = c.reshape((5, 2))\n",
    "print(d)\n",
    "\n",
    "#只管第二軸轉換成 5， 第一軸由電腦自己計算就用-1代表。\n",
    "e= c.reshape((-1,5))\n",
    "print(e)\n"
   ]
  },
  {
   "cell_type": "code",
   "execution_count": 7,
   "metadata": {},
   "outputs": [
    {
     "name": "stdout",
     "output_type": "stream",
     "text": [
      "a :  [ 0  1  2  3  4  5  6  7  8  9 10 11 12 13 14 15 16 17 18 19 20 21 22 23]\n",
      "b :  [[ 0  1  2  3  4  5  6  7  8  9 10 11]\n",
      " [12 13 14 15 16 17 18 19 20 21 22 23]]\n",
      "c :  [[[ 0  1  2  3]\n",
      "  [ 4  5  6  7]\n",
      "  [ 8  9 10 11]]\n",
      "\n",
      " [[12 13 14 15]\n",
      "  [16 17 18 19]\n",
      "  [20 21 22 23]]]\n"
     ]
    }
   ],
   "source": [
    "# 高維度\n",
    "a = np.arange(24)\n",
    "print(\"a : \",a)\n",
    "b = a.reshape(2,12)\n",
    "print(\"b : \",b)\n",
    "c = a.reshape(2,3,4)\n",
    "print(\"c : \",c)"
   ]
  },
  {
   "cell_type": "code",
   "execution_count": 8,
   "metadata": {},
   "outputs": [
    {
     "name": "stdout",
     "output_type": "stream",
     "text": [
      "<class 'numpy.ndarray'>\n",
      "int32\n",
      "25\n",
      "(5, 5)\n",
      "4\n",
      "2\n",
      "100\n"
     ]
    }
   ],
   "source": [
    "#二維陣列屬性\n",
    "a = np.array([[11, 12, 13, 14, 15],\n",
    "              [16, 17, 18, 19, 20],\n",
    "              [21, 22, 23, 24, 25],\n",
    "              [26, 27, 28, 29, 30],\n",
    "              [31, 32, 33, 34, 35]])\n",
    " \n",
    "print(type(a))\n",
    "print(a.dtype)\n",
    "print(a.size)\n",
    "print(a.shape)\n",
    "print(a.itemsize)\n",
    "print(a.ndim)\n",
    "print(a.nbytes)  "
   ]
  },
  {
   "cell_type": "code",
   "execution_count": null,
   "metadata": {},
   "outputs": [],
   "source": [
    "#一維陣列探索\n",
    "a = np.array([1, 2, 3, 4, 5])\n",
    "for ele in a:\n",
    "    print(ele)"
   ]
  },
  {
   "cell_type": "code",
   "execution_count": null,
   "metadata": {},
   "outputs": [],
   "source": [
    "#二維探索探索\n",
    "a = np.array([[1, 2], [3, 4], [5, 6]])\n",
    "for ele in a:\n",
    "    print(ele)\n",
    "\n",
    "for ele in a:\n",
    "    for item in ele:\n",
    "        print(str(item) + \" \", end=\"\")"
   ]
  },
  {
   "cell_type": "code",
   "execution_count": null,
   "metadata": {},
   "outputs": [],
   "source": [
    "#陣列輸出存檔\n",
    "a = np.arange(10)\n",
    "outputfile = \"Example.npy\"\n",
    "with open(outputfile, 'wb') as fp:\n",
    "    np.save(fp, a)\n",
    "\n",
    "#輸出 CSV格式\n",
    "a = np.array([[1,2,3],[4,5,6]])\n",
    "outputfile = \"Example.out\"\n",
    "np.savetxt(outputfile, a, delimiter=',')"
   ]
  },
  {
   "cell_type": "code",
   "execution_count": null,
   "metadata": {},
   "outputs": [],
   "source": [
    "#陣列載入\n",
    "outputfile = \"Example.npy\"\n",
    "with open(outputfile, 'rb') as fp:\n",
    "    a = np.load(fp)\n",
    "print(a)\n",
    "\n",
    "#載入 CSV格式\n",
    "outputfile = \"Example.out\"\n",
    "a = np.loadtxt(outputfile, delimiter=',')\n",
    "print(a)"
   ]
  },
  {
   "cell_type": "code",
   "execution_count": null,
   "metadata": {},
   "outputs": [],
   "source": [
    "#陣列與純量運算\n",
    "a = np.array([1, 2, 3]) \n",
    "print(\"a=\" + str(a))\n",
    "s = 5 \n",
    "print(\"s=\" + str(s))\n",
    "b = a + s       \n",
    "print(\"a+s=\" + str(b))    \n",
    "b = a - s       \n",
    "print(\"a-s=\" + str(b))   \n",
    "b = a * s       \n",
    "print(\"a*s=\" + str(b))  \n",
    "b = a / s       \n",
    "print(\"a/s=\" + str(b)) \n",
    "\n",
    "\n",
    "a = np.array([1, 2, 3]) \n",
    "print(\"a=\" + str(a))\n",
    "s = 5 \n",
    "print(\"s=\" + str(s))\n",
    "b = np.add(a, s)       \n",
    "print(\"np.add(a,s)=\" + str(b))    \n",
    "b = np.subtract(a, s)       \n",
    "print(\"np.subtract(a,s)=\" + str(b))   \n",
    "b = np.multiply(a, s)       \n",
    "print(\"np.multiply(a,s)=\" + str(b))  \n",
    "b = np.divide(a, s)       \n",
    "print(\"np.divide(a,s)=\" + str(b))  "
   ]
  },
  {
   "cell_type": "code",
   "execution_count": null,
   "metadata": {},
   "outputs": [],
   "source": [
    "#陣列與陣列運算\n",
    "a = np.array([1, 2, 3]) \n",
    "print(\"a=\" + str(a))\n",
    "s = np.array([4, 5, 6])  \n",
    "print(\"s=\" + str(s))\n",
    "b = a + s       \n",
    "print(\"a+s=\" + str(b))    \n",
    "b = a - s       \n",
    "print(\"a-s=\" + str(b))   \n",
    "b = a * s       \n",
    "print(\"a*s=\" + str(b))  \n",
    "b = a / s       \n",
    "print(\"a/s=\" + str(b))  \n",
    "\n",
    "\n",
    "a = np.array([1, 2, 3]) \n",
    "print(\"c=\" + str(a))\n",
    "s = np.array([4, 5, 6])  \n",
    "print(\"s=\" + str(s))\n",
    "b = np.add(a, s)       \n",
    "print(\"np.add(a,s)=\" + str(b))    \n",
    "b = np.subtract(a, s)       \n",
    "print(\"np.subtract(a,s)=\" + str(b))   \n",
    "b = np.multiply(a, s)       \n",
    "print(\"np.multiply(a,s)=\" + str(b))  \n",
    "b = np.divide(a, s)       \n",
    "print(\"np.divide(a,s)=\" + str(b))  "
   ]
  },
  {
   "cell_type": "code",
   "execution_count": null,
   "metadata": {},
   "outputs": [],
   "source": [
    "#陣列點積運算\n",
    "a = np.array([1, 2, 3]) \n",
    "print(\"a=\" + str(a))\n",
    "s = np.array([4, 5, 6])  \n",
    "print(\"s=\" + str(s))\n",
    "b = a.dot(s)       \n",
    "print(\"a.dot(s)=\" + str(b))  "
   ]
  },
  {
   "cell_type": "code",
   "execution_count": null,
   "metadata": {},
   "outputs": [],
   "source": [
    "#陣列切割(slice)-1\n",
    "a = np.array([1, 2, 3, 4, 5, 6, 7, 8, 9])\n",
    "print(\"a=\" + str(a))\n",
    "\n",
    "b = a[1:3]     # 索引 1,2\n",
    "print(\"a[1:3]=\" + str(b))\n",
    "b = a[:4]      # 索引 0,1,2,3\n",
    "print(\"a[:4]=\" + str(b))\n",
    "b = a[3:]      # 索引 3,4,5,6,7,8\n",
    "print(\"a[3:]=\" + str(b))\n",
    "b = a[2:9:3]   # 索引 2,5,8\n",
    "print(\"a[2:9:3]=\" + str(b))\n",
    "b = a[::2]     # 索引 0,2,4,6,8\n",
    "print(\"a[::2]=\" + str(b))\n",
    "b = a[::-1]    # 索引 8,7,6,5,4,3,2,1,0\n",
    "print(\"a[::-1]=\" + str(b))\n",
    "b = a[2:-2]    # 索引 8,7,6,5,4,3,2,1,0\n",
    "print(\"a[2:-2]=\" + str(b))\n"
   ]
  },
  {
   "cell_type": "code",
   "execution_count": null,
   "metadata": {},
   "outputs": [],
   "source": [
    "#陣列切割(slice)-2\n",
    "a = np.array([1, 2, 3, 4, 5, 6, 7, 8, 9])\n",
    "print(\"a=\" + str(a))\n",
    "\n",
    "print(a[0], a[2], a[-1])  # 索引 0,2,最後1個 \n",
    "b = a[[1, 3, 5, 7]]       # 索引 1,3,5,7\n",
    "print(\"a[[1,3,5,7]]=\" + str(b))\n",
    "b = a[range(6)]           # 索引 0,1,2,3,4,5\n",
    "print(\"a[range(6)]=\" + str(b))\n",
    "a[[2, 6]] = 10            # 同時更改多個索引值\n",
    "print(\"a[[2,6]]=10->\" + str(a))"
   ]
  },
  {
   "cell_type": "code",
   "execution_count": null,
   "metadata": {},
   "outputs": [],
   "source": [
    "#陣列切割(slice)-boolean\n",
    "a = np.array([14,8,10,11,6,3,18,13,12,9])\n",
    "print(\"a=\" + str(a))\n",
    "mask = (a % 3 == 0)        # 建立布林值陣列\n",
    "print(\"mask=\" + str(mask))\n",
    "b = a[mask]                # 使用布林值陣列取出值\n",
    "print(\"a[mask]=\" + str(b))\n",
    "a[a % 3 == 0] = -1         # 同時更改多個True索引\n",
    "print(\"a[a%3==0]=-1->\" + str(a))"
   ]
  },
  {
   "cell_type": "code",
   "execution_count": null,
   "metadata": {},
   "outputs": [],
   "source": [
    "#二維陣列運算-陣列x純量\n",
    "a = np.array([[1,2,3],[4,5,6]])\n",
    "print(\"a=\")\n",
    "print(a)\n",
    "s = 5 \n",
    "print(\"s=\" + str(s))\n",
    "b = a + s       \n",
    "print(\"a+s=\")\n",
    "print(b)    \n",
    "b = a - s       \n",
    "print(\"a-s=\")\n",
    "print(b)   \n",
    "b = a * s       \n",
    "print(\"a*s=\")\n",
    "print(b)  \n",
    "b = a / s       \n",
    "print(\"a/s=\")\n",
    "print(b)  \n",
    "\n",
    "a = np.array([[1,2,3],[4,5,6]])\n",
    "print(\"a=\")\n",
    "print(a)\n",
    "s = 5 \n",
    "print(\"s=\" + str(s))\n",
    "b = np.add(a, s)       \n",
    "print(\"np.add(a,s)=\")\n",
    "print(b)    \n",
    "b = np.subtract(a, s)       \n",
    "print(\"np.subtract(a,s)=\")\n",
    "print(b)   \n",
    "b = np.multiply(a, s)       \n",
    "print(\"np.multiply(a,s)=\")\n",
    "print(b)  \n",
    "b = np.divide(a, s)       \n",
    "print(\"np.divide(a,s)=\")\n",
    "print(b) \n"
   ]
  },
  {
   "cell_type": "code",
   "execution_count": null,
   "metadata": {},
   "outputs": [],
   "source": [
    "#二維陣列運算\n"
   ]
  },
  {
   "cell_type": "code",
   "execution_count": null,
   "metadata": {},
   "outputs": [],
   "source": [
    "#二維陣列運算-陣列x陣列\n",
    "a = np.array([[1,2],[3,4]])\n",
    "print(\"a=\")\n",
    "print(a)\n",
    "s = np.array([[5,6],[7,8]])\n",
    "print(\"s=\")\n",
    "print(s)\n",
    "b = a + s       \n",
    "print(\"a+s=\")\n",
    "print(b)    \n",
    "b = a - s       \n",
    "print(\"a-s=\")\n",
    "print(b)   \n",
    "b = a * s       \n",
    "print(\"a*s=\")\n",
    "print(b)  \n",
    "b = a / s       \n",
    "print(\"a/s=\")\n",
    "print(b)  \n",
    "\n",
    "a = np.array([[1,2],[3,4]])\n",
    "print(\"a=\")\n",
    "print(a)\n",
    "s = np.array([[5,6],[7,8]])\n",
    "print(\"s=\")\n",
    "print(s)\n",
    "b = np.add(a, s)       \n",
    "print(\"np.add(a,s)=\")\n",
    "print(b)    \n",
    "b = np.subtract(a, s)       \n",
    "print(\"np.subtract(a,s)=\")\n",
    "print(b)   \n",
    "b = np.multiply(a, s)       \n",
    "print(\"np.multiply(a,s)=\")\n",
    "print(b)  \n",
    "b = np.divide(a, s)       \n",
    "print(\"np.divide(a,s)=\")\n",
    "print(b)  "
   ]
  },
  {
   "cell_type": "code",
   "execution_count": null,
   "metadata": {},
   "outputs": [],
   "source": [
    "#二維陣列運算-點積\n",
    "a = np.array([[1,2],[3,4]])\n",
    "print(\"a=\")\n",
    "print(a)\n",
    "s = np.array([[5,6],[7,8]])\n",
    "print(\"s=\")\n",
    "print(s)\n",
    "b = a.dot(s)       \n",
    "print(\"a.dot(s)=\")\n",
    "print(b)    \n"
   ]
  },
  {
   "cell_type": "code",
   "execution_count": null,
   "metadata": {},
   "outputs": [],
   "source": [
    "#二維陣列切割\n",
    "a = np.arange(11,36)\n",
    "a = a.reshape(5,5)\n",
    "print(\"a=\")\n",
    "print(a)\n",
    "\n",
    "b = a[0, 1:4]     # 索引 [0,1~3]\n",
    "print(\"a[0,1:4]=\")\n",
    "print(b)\n",
    "b = a[1:4, 0]     # 索引 [1~3,0]\n",
    "print(\"a[1:4,0]=\")\n",
    "print(b)\n",
    "b = a[:2, 1:3]    # 索引 [0~1,1~2]\n",
    "print(\"a[:2,1:3]=\")\n",
    "print(b)\n",
    "b = a[:,1]        # 索引 [0~4,1]\n",
    "print(\"a[:,1]=\")\n",
    "print(b)\n",
    "b = a[::2, ::2]   # 索引 [0~2~4,0~2~4]\n",
    "print(\"a[::2,::2]=\")\n",
    "print(b)"
   ]
  },
  {
   "cell_type": "code",
   "execution_count": null,
   "metadata": {},
   "outputs": [],
   "source": [
    "#二維陣列切割\n",
    "a = np.array([[1,2,3],[4,5,6],[7,8,9],[10,11,12]])\n",
    "print(\"a=\")\n",
    "print(a)\n",
    "\n",
    "b = a[[0,1,2],[0,1,0]]   # 索引 [0,0][1,1][2,0]\n",
    "print(\"a[[0,1,2],[0,1,0]]=\")\n",
    "print(b)\n",
    "b = np.array([a[0,0],a[1,1],a[2,0]])  # 索引 [0,0][1,1][2,0]\n",
    "print(\"np.array([a[0,0],a[1,1],a[2,0]])\")\n",
    "print(b)\n",
    "\n",
    "idx = np.array([0, 2, 0, 1])\n",
    "print(\"idx=\" + str(idx))\n",
    "b = a[np.arange(4), idx]     # 索引 [0,0][1,2][2,0][3,1]\n",
    "print(\"a[np.arange(4),idx]=\")\n",
    "print(b)\n",
    "a[np.arange(4), idx] += 10\n",
    "print(\"a[np.arange(4), idx] += 10->\")\n",
    "print(a)"
   ]
  },
  {
   "cell_type": "code",
   "execution_count": null,
   "metadata": {},
   "outputs": [],
   "source": [
    "#二維陣列切割 boolean\n",
    "a = np.array([[1,2],[3,4],[5,6]])\n",
    "print(\"a=\")\n",
    "print(a)\n",
    "\n",
    "mask = (a > 2)\n",
    "print(\"mask=\")\n",
    "print(mask)\n",
    "b = a[mask]           # 使用布林值陣列取出值\n",
    "print(\"a[mask]=\" + str(b))\n",
    "a[a > 2] = -1         # 同時更改多個True索引\n",
    "print(\"a[a>2]=-1->\")\n",
    "print(a)"
   ]
  },
  {
   "cell_type": "code",
   "execution_count": null,
   "metadata": {},
   "outputs": [],
   "source": [
    "#shape\n",
    "a = np.array([[1,2,3],[4,5,6],[7,8,9],[10,11,12]])\n",
    "print(\"a=\")\n",
    "print(a)\n",
    "print(\"a 形狀: \" + str(a.shape))\n",
    "b = np.array([1,0,1])\n",
    "print(\"b=\" + str(b))\n",
    "print(\"b 形狀: \" + str(b.shape))\n",
    "\n",
    "c = a + b\n",
    "print(c)"
   ]
  },
  {
   "cell_type": "code",
   "execution_count": null,
   "metadata": {},
   "outputs": [
    {
     "name": "stdout",
     "output_type": "stream",
     "text": [
      "9\n",
      "0\n",
      "45\n",
      "4.5\n"
     ]
    }
   ],
   "source": [
    "#陣列函數\n",
    "a = np.arange(10)\n",
    "print(a.max())\n",
    "print(a.min())\n",
    "print(a.sum())\n",
    "print(a.mean())"
   ]
  },
  {
   "cell_type": "code",
   "execution_count": null,
   "metadata": {},
   "outputs": [
    {
     "name": "stdout",
     "output_type": "stream",
     "text": [
      "a:\n",
      "[[0 1 2]\n",
      " [3 4 5]]\n",
      "----- axis =0  ----- \n",
      "a.max :  [3 4 5]\n",
      "a.min : [0 1 2]\n",
      "a.sum : [3 5 7]\n",
      "a.mean  [1.5 2.5 3.5]\n",
      "\n",
      "----- axis =1  ----- \n",
      "a.max :  [2 5]\n",
      "a.min : [0 3]\n",
      "a.sum : [ 3 12]\n",
      "a.mean  [1. 4.]\n"
     ]
    }
   ],
   "source": [
    "#陣列函數\n",
    "a = np.arange(6)\n",
    "a = a.reshape(2,3)\n",
    "print(\"a:\")\n",
    "print(a)\n",
    "print(\"----- axis =0  ----- \")\n",
    "print(\"a.max : \", a.max(axis =0))\n",
    "print(\"a.min :\", a.min(axis =0))\n",
    "print(\"a.sum :\",a.sum(axis =0))\n",
    "print(\"a.mean \", a.mean(axis =0))\n",
    "print()\n",
    "print(\"----- axis =1  ----- \")\n",
    "print(\"a.max : \", a.max(axis =1))\n",
    "print(\"a.min :\", a.min(axis =1))\n",
    "print(\"a.sum :\",a.sum(axis =1))\n",
    "print(\"a.mean \", a.mean(axis =1))"
   ]
  },
  {
   "cell_type": "code",
   "execution_count": null,
   "metadata": {},
   "outputs": [
    {
     "name": "stdout",
     "output_type": "stream",
     "text": [
      "[0 1 2 3 4 5]\n",
      "b shape: (1, 6)\n",
      "[[0 1 2 3 4 5]]\n",
      "c shape: (6, 1)\n",
      "[[0]\n",
      " [1]\n",
      " [2]\n",
      " [3]\n",
      " [4]\n",
      " [5]]\n"
     ]
    }
   ],
   "source": [
    "# 增加維度 expand_dims\n",
    "a =np.arange(6)\n",
    "print(a)\n",
    "b = np.expand_dims(a, axis =0)\n",
    "print(\"b shape:\",b. shape)\n",
    "print(b)\n",
    "c = np.expand_dims(a, axis =1)\n",
    "print(\"c shape:\",c.shape)\n",
    "print(c)\n"
   ]
  },
  {
   "cell_type": "code",
   "execution_count": null,
   "metadata": {},
   "outputs": [
    {
     "name": "stdout",
     "output_type": "stream",
     "text": [
      "d shape: (6,)\n",
      "[0 1 2 3 4 5]\n",
      "e shape: (6,)\n",
      "[0 1 2 3 4 5]\n"
     ]
    }
   ],
   "source": [
    "# 減少(壓縮)維度 將維度維 一 的 壓縮\n",
    "d = np.squeeze(b)\n",
    "print(\"d shape:\",d.shape)\n",
    "print(d)\n",
    "\n",
    "e = np.squeeze(c)\n",
    "print(\"e shape:\",e.shape)\n",
    "print(e)\n"
   ]
  },
  {
   "cell_type": "code",
   "execution_count": null,
   "metadata": {},
   "outputs": [],
   "source": [
    "#陣列函數 ravel()\n",
    "a = np.array([[1,2,3],[4,5,6]])\n",
    "print(\"a=\")\n",
    "print(a)\n",
    "\n",
    "b = a.ravel()\n",
    "print(\"a.ravel()=\" + str(b))\n",
    "b = np.ravel(a)\n",
    "print(\"np.ravel(a)=\" + str(b))"
   ]
  },
  {
   "cell_type": "code",
   "execution_count": null,
   "metadata": {},
   "outputs": [],
   "source": [
    "#陣列函數 transpose\n",
    "a = np.array([1,2,3,4,5,6])\n",
    "print(\"a=\" + str(a))\n",
    "\n",
    "b = np.reshape(a,(3,2))\n",
    "print(\"b=np.reshape(a,(3,2))->\")\n",
    "print(b)\n",
    "c = b.T\n",
    "print(\"c=b.T->\")\n",
    "print(c)\n",
    "c = b.transpose()\n",
    "print(\"c=b.transpose()->\")\n",
    "print(c)\n",
    "c = np.transpose(b)\n",
    "print(\"c=np.transpose(b)->\")\n",
    "print(c)"
   ]
  },
  {
   "cell_type": "code",
   "execution_count": null,
   "metadata": {},
   "outputs": [],
   "source": [
    "#陣列函數 newaxis\n",
    "a = np.array([1,2,3])\n",
    "print(\"a=\" + str(a))\n",
    "\n",
    "b = a[:, np.newaxis]\n",
    "print(\"b=a[:,np.newaxis]->\")\n",
    "print(b)\n",
    "print(b.shape)\n",
    "b = a[np.newaxis, :]\n",
    "print(\"b=a[np.newaxis,:]->\")\n",
    "print(b)\n",
    "print(b.shape)"
   ]
  },
  {
   "cell_type": "code",
   "execution_count": null,
   "metadata": {},
   "outputs": [
    {
     "name": "stdout",
     "output_type": "stream",
     "text": [
      "[ 2  4  6  8 10]\n",
      "[False False  True  True  True]\n",
      "[ 6  8 10]\n",
      "[2 4 0 0 0]\n",
      "4 1 4\n"
     ]
    }
   ],
   "source": [
    "# 陣列搜尋與判斷\n",
    "\n",
    "condition_b = a > 5   # 產生 boolean array\n",
    "print(a)\n",
    "print(condition_b) \n",
    "print(a[condition_b]) # 過濾 a 陣列\n",
    "a[condition_b] = 0\n",
    "print(a)\n"
   ]
  },
  {
   "cell_type": "code",
   "execution_count": null,
   "metadata": {},
   "outputs": [],
   "source": [
    "# 陣列搜尋與判斷 argmax\n",
    "a =np.array([2,4,6,8,10])\n",
    "max = a.max()  #最大值\n",
    "index = a.argmax()  # 最大值索引\n",
    "print(max, index, a[index])"
   ]
  },
  {
   "cell_type": "code",
   "execution_count": null,
   "metadata": {},
   "outputs": [
    {
     "name": "stdout",
     "output_type": "stream",
     "text": [
      "[5 4 1 2 3]\n",
      "[[6 5 4]\n",
      " [1 2 3]]\n",
      "[1 2 3 4 5]\n",
      "-------sort by axis = 0  --------------\n",
      "[[1 2 3]\n",
      " [6 5 4]]\n",
      "-------sort by axis = 1  --------------\n",
      "[[4 5 6]\n",
      " [1 2 3]]\n"
     ]
    }
   ],
   "source": [
    "# sort\n",
    "a = np.array([5,4,1,2,3])\n",
    "b = np.array([[6,5,4],[1,2,3]])\n",
    "print(a)\n",
    "print(b)\n",
    "print(np.sort(a))\n",
    "print(\"-------sort by axis = 0  --------------\")\n",
    "print(np.sort(b, axis =0))\n",
    "print(\"-------sort by axis = 1  --------------\")\n",
    "print(np.sort(b, axis =1))"
   ]
  },
  {
   "cell_type": "code",
   "execution_count": null,
   "metadata": {},
   "outputs": [
    {
     "name": "stdout",
     "output_type": "stream",
     "text": [
      "[27 17 69 43 56 77 80 90 15 92]\n",
      "[-0.16518249 -0.98739841  0.86550648 ...  0.47214595  0.0821693\n",
      "  0.6459644 ]\n",
      "0.009742033781212857\n"
     ]
    }
   ],
   "source": [
    "# 亂數產生陣列\n",
    "np.random.seed(200)\n",
    "a = np.random.randint(low = 1, high = 100, size =10)\n",
    "print(a)\n"
   ]
  },
  {
   "cell_type": "code",
   "execution_count": null,
   "metadata": {},
   "outputs": [
    {
     "name": "stdout",
     "output_type": "stream",
     "text": [
      "[-1.74976547]\n",
      "[-1.74976547]\n",
      "[1.3315865]\n"
     ]
    }
   ],
   "source": [
    "# 亂數產生陣列\n",
    "np.random.seed(100)\n",
    "a = np.random.randn(1)\n",
    "print(a)\n",
    "np.random.seed(100)\n",
    "a = np.random.randn(1)\n",
    "print(a)\n",
    "\n",
    "np.random.seed(10)\n",
    "a = np.random.randn(1)\n",
    "print(a)\n",
    "\n"
   ]
  },
  {
   "cell_type": "code",
   "execution_count": null,
   "metadata": {},
   "outputs": [
    {
     "name": "stdout",
     "output_type": "stream",
     "text": [
      "[ 0.71527897 -1.54540029 -0.00838385 ...  1.25073922  1.1629442\n",
      " -2.18695198]\n",
      "0.00475020215321972\n"
     ]
    }
   ],
   "source": [
    "# 亂數產生陣列\n",
    "b = np.random.randn(10000)\n",
    "print(b)\n",
    "print(b.mean())  # 平均逼近 0"
   ]
  },
  {
   "cell_type": "code",
   "execution_count": null,
   "metadata": {},
   "outputs": [],
   "source": [
    "#陣列函數 copy\n",
    "a = np.array([1,2,3])\n",
    "print(\"a=\" + str(a))\n",
    "\n",
    "b = a.copy()\n",
    "print(\"b=a.copy()->\" + str(b))\n",
    "b.fill(4)\n",
    "print(\"b.fill(0)=\" + str(b))\n",
    "c = np.concatenate((a,b))\n",
    "print(\"c=np.concatenate((a,b))->\" + str(c))"
   ]
  },
  {
   "cell_type": "code",
   "execution_count": null,
   "metadata": {},
   "outputs": [],
   "source": [
    "#陣列函數concatenate\n",
    "a = np.array([[1,2],[3,4]])\n",
    "b = np.array([[5,6],[7,8]])\n",
    "\n",
    "c = np.concatenate((a,b))\n",
    "print(\"c=np.concatenate((a,b))->\")\n",
    "print(c)\n",
    "c = np.concatenate((a,b), axis=0)\n",
    "print(\"c=np.concatenate((a,b), axis=0)->\")\n",
    "print(c)\n",
    "c = np.concatenate((a,b), axis=1)\n",
    "print(\"c=np.concatenate((a,b), axis=1)->\")\n",
    "print(c)"
   ]
  },
  {
   "cell_type": "code",
   "execution_count": null,
   "metadata": {},
   "outputs": [],
   "source": [
    "#陣列 random\n",
    "np.random.seed(293423)\n",
    "\n",
    "v1 = np.random.random()\n",
    "v2 = np.random.random()\n",
    "print(v1, v2)\n",
    "v3 = np.random.randint(5, 10)\n",
    "v4 = np.random.randint(1, 101)\n",
    "print(v3, v4)\n"
   ]
  },
  {
   "cell_type": "code",
   "execution_count": null,
   "metadata": {},
   "outputs": [],
   "source": [
    "#陣列 random()\n",
    "a = np.random.rand(5)\n",
    "print(\"np.random.rand(5)=\")\n",
    "print(a)\n",
    "b = np.random.rand(3, 2)  \n",
    "print(\"np.random.rand(3,2)=\")\n",
    "print(b)\n",
    "c = np.random.randint(5, 10, size=5)\n",
    "print(\"np.random.randint(5,10,size=5)\")\n",
    "print(c)\n",
    "d = np.random.randint(5, 10, size=(2,3))\n",
    "print(\"np.random.randint(5,10,size=(2,3))\")\n",
    "print(d)"
   ]
  },
  {
   "cell_type": "code",
   "execution_count": null,
   "metadata": {},
   "outputs": [],
   "source": [
    "#陣列 三角函數\n",
    "a = np.array([30,45,60]) \n",
    "\n",
    "print(np.sin(a*np.pi/180)) \n",
    "print(np.cos(a*np.pi/180)) \n",
    "print(np.tan(a*np.pi/180)) "
   ]
  },
  {
   "cell_type": "code",
   "execution_count": null,
   "metadata": {},
   "outputs": [],
   "source": [
    "#四捨五入\n",
    "a = np.array([1.0,5.55, 123, 0.567, 25.532]) \n",
    "print(\"a=\" + str(a))\n",
    "\n",
    "print(np.around(a))\n",
    "print(np.around(a, decimals = 1))\n",
    "print(np.around(a, decimals = -1))\n",
    "\n",
    "a = np.array([-1.7, 1.5, -0.2, 0.6, 10]) \n",
    "print(\"a=\" + str(a))\n",
    "\n",
    "b = np.floor(a)\n",
    "print(\"floor()=\" + str(b))\n",
    "b = np.ceil(a)\n",
    "print(\"ceil()=\" + str(b))"
   ]
  },
  {
   "cell_type": "code",
   "execution_count": null,
   "metadata": {},
   "outputs": [],
   "source": []
  },
  {
   "cell_type": "code",
   "execution_count": null,
   "metadata": {},
   "outputs": [],
   "source": []
  }
 ],
 "metadata": {
  "interpreter": {
   "hash": "371ed727e43652cda0dd30258e7564adae7bfc4b1dd463729551177209a0aa1f"
  },
  "kernelspec": {
   "display_name": "Python 3.8.8 64-bit ('base': conda)",
   "name": "python3"
  },
  "language_info": {
   "codemirror_mode": {
    "name": "ipython",
    "version": 3
   },
   "file_extension": ".py",
   "mimetype": "text/x-python",
   "name": "python",
   "nbconvert_exporter": "python",
   "pygments_lexer": "ipython3",
   "version": "3.8.8"
  }
 },
 "nbformat": 4,
 "nbformat_minor": 2
}
