{
 "cells": [
  {
   "cell_type": "markdown",
   "id": "a3f663dd",
   "metadata": {},
   "source": [
    "班級:資工三乙          學號:B08170067          姓名:古宇恆"
   ]
  },
  {
   "cell_type": "code",
   "execution_count": 13,
   "id": "5d5ed764",
   "metadata": {},
   "outputs": [
    {
     "data": {
      "text/plain": [
       "3"
      ]
     },
     "execution_count": 13,
     "metadata": {},
     "output_type": "execute_result"
    }
   ],
   "source": [
    "import random\n",
    "random.randint(1, 10)"
   ]
  },
  {
   "cell_type": "code",
   "execution_count": 14,
   "id": "2c19db5e",
   "metadata": {},
   "outputs": [],
   "source": [
    "import time"
   ]
  },
  {
   "cell_type": "code",
   "execution_count": 11,
   "id": "c54fe6f2",
   "metadata": {},
   "outputs": [
    {
     "name": "stdout",
     "output_type": "stream",
     "text": [
      "3 秒時間測試，準備好就按 Enter 鍵開始\n",
      "開始計時! 按 Enter 鍵結束計時!\n",
      "你的秒數: 3.45\n",
      "誤差秒數: 3.45\n",
      "準確度: 0.85\n",
      "要再試一次嗎?(yes/no)yes\n",
      "9 秒時間測試，準備好就按 Enter 鍵開始\n",
      "開始計時! 按 Enter 鍵結束計時!\n",
      "你的秒數: 9.18\n",
      "誤差秒數: 9.18\n",
      "準確度: 0.98\n",
      "要再試一次嗎?(yes/no)no\n"
     ]
    }
   ],
   "source": [
    "while(True):\n",
    "    t = random.randint(1, 10)\n",
    "    input(str(t) + ' 秒時間測試，準備好就按 Enter 鍵開始')\n",
    "    \n",
    "    start = time.time()\n",
    "    input('開始計時! 按 Enter 鍵結束計時!')\n",
    "    end = time.time()\n",
    "    \n",
    "    seconds = end - start\n",
    "    print('你的秒數:', round(seconds, 2))\n",
    "    \n",
    "    error = abs(t - seconds)\n",
    "    print('誤差秒數:', round(seconds, 2))\n",
    "    \n",
    "    acc = round(1 - (error / t), 2)\n",
    "    print('準確度:', acc)\n",
    "    \n",
    "    try_again = input('要再試一次嗎?(yes/no)')\n",
    "    if(try_again == 'yes'):\n",
    "        continue\n",
    "    else:\n",
    "        break"
   ]
  }
 ],
 "metadata": {
  "kernelspec": {
   "display_name": "Python 3",
   "language": "python",
   "name": "python3"
  },
  "language_info": {
   "codemirror_mode": {
    "name": "ipython",
    "version": 3
   },
   "file_extension": ".py",
   "mimetype": "text/x-python",
   "name": "python",
   "nbconvert_exporter": "python",
   "pygments_lexer": "ipython3",
   "version": "3.8.8"
  }
 },
 "nbformat": 4,
 "nbformat_minor": 5
}
